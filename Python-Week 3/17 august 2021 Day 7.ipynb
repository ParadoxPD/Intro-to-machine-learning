{
 "cells": [
  {
   "cell_type": "markdown",
   "id": "2fdd805e",
   "metadata": {},
   "source": [
    "# functional arguments:\n",
    "# 1. *args(arguments)\n",
    "# 2. **kwargs(keyword arguments)"
   ]
  },
  {
   "cell_type": "code",
   "execution_count": 28,
   "id": "d8e4a11c",
   "metadata": {},
   "outputs": [],
   "source": [
    "\n",
    "def my_func(a,b):\n",
    "    return sum(a,b)\n"
   ]
  },
  {
   "cell_type": "code",
   "execution_count": 30,
   "id": "934af555",
   "metadata": {},
   "outputs": [
    {
     "data": {
      "text/plain": [
       "5"
      ]
     },
     "execution_count": 30,
     "metadata": {},
     "output_type": "execute_result"
    }
   ],
   "source": [
    "my_func(2,3)"
   ]
  },
  {
   "cell_type": "code",
   "execution_count": 29,
   "id": "45b307be",
   "metadata": {},
   "outputs": [],
   "source": [
    "def my_func(*args):\n",
    "    return sum(args)\n"
   ]
  },
  {
   "cell_type": "code",
   "execution_count": 6,
   "id": "3b94a722",
   "metadata": {},
   "outputs": [
    {
     "data": {
      "text/plain": [
       "14"
      ]
     },
     "execution_count": 6,
     "metadata": {},
     "output_type": "execute_result"
    }
   ],
   "source": [
    "my_func(2,3,4,5)"
   ]
  },
  {
   "cell_type": "markdown",
   "id": "cc36e308",
   "metadata": {},
   "source": [
    "# *args can be replaced by any other keywords like *sit. however ,conventionally we use args"
   ]
  },
  {
   "cell_type": "code",
   "execution_count": 11,
   "id": "e7374dd3",
   "metadata": {},
   "outputs": [],
   "source": [
    "#**kwargs\n",
    "def myfunc(**kwargs):\n",
    "    print(kwargs)"
   ]
  },
  {
   "cell_type": "code",
   "execution_count": 12,
   "id": "1f3c1140",
   "metadata": {},
   "outputs": [
    {
     "name": "stdout",
     "output_type": "stream",
     "text": [
      "{'breakfast': 30, 'lunch': 40, 'dinner': 60}\n"
     ]
    }
   ],
   "source": [
    "myfunc(breakfast=30,lunch=40,dinner=60)"
   ]
  },
  {
   "cell_type": "code",
   "execution_count": 18,
   "id": "517674a8",
   "metadata": {},
   "outputs": [],
   "source": [
    "def myfunc(**kwargs):\n",
    "    if 'breakfast' in kwargs:\n",
    "        print(f\"the cost of breakfast is {kwargs['breakfast']}\")\n",
    "    elif'lunch' in kwargs:\n",
    "        print(f\"the cost of breakfast is {kwargs['lunch']}\")\n",
    "    else:\n",
    "        print(f\"the cost of breakfast is {kwargs['dinner']}\")\n",
    "        "
   ]
  },
  {
   "cell_type": "code",
   "execution_count": 19,
   "id": "3c0887fa",
   "metadata": {},
   "outputs": [
    {
     "name": "stdout",
     "output_type": "stream",
     "text": [
      "the cost of breakfast is 30\n"
     ]
    }
   ],
   "source": [
    "myfunc(breakfast=30,lunch=40,dinner=60)"
   ]
  },
  {
   "cell_type": "code",
   "execution_count": 22,
   "id": "3ce00a1a",
   "metadata": {},
   "outputs": [],
   "source": [
    "# usings both functional arguments \n",
    "def myfunc(*args,**kwargs):\n",
    "    print('I would like to have {} {}'.format(args[0],kwargs['lunch']))"
   ]
  },
  {
   "cell_type": "code",
   "execution_count": 23,
   "id": "548c3473",
   "metadata": {},
   "outputs": [
    {
     "name": "stdout",
     "output_type": "stream",
     "text": [
      "I would like to have 5 paratha\n"
     ]
    }
   ],
   "source": [
    "myfunc(5,7,9,12,breakfast='idli',lunch='paratha')"
   ]
  },
  {
   "cell_type": "markdown",
   "id": "fb61b701",
   "metadata": {},
   "source": [
    "# map function "
   ]
  },
  {
   "cell_type": "code",
   "execution_count": 31,
   "id": "69962c51",
   "metadata": {},
   "outputs": [],
   "source": [
    "def mysquare(num):\n",
    "    return(num**2)"
   ]
  },
  {
   "cell_type": "code",
   "execution_count": 34,
   "id": "efeaeee9",
   "metadata": {},
   "outputs": [
    {
     "data": {
      "text/plain": [
       "<map at 0x1daf7885df0>"
      ]
     },
     "execution_count": 34,
     "metadata": {},
     "output_type": "execute_result"
    }
   ],
   "source": [
    "mylist=[1,2,3,4]\n",
    "# objective is to get square of each object defined in my list\n",
    "map(mysquare,mylist)"
   ]
  },
  {
   "cell_type": "code",
   "execution_count": 35,
   "id": "63fc20a1",
   "metadata": {},
   "outputs": [
    {
     "data": {
      "text/plain": [
       "[1, 4, 9, 16]"
      ]
     },
     "execution_count": 35,
     "metadata": {},
     "output_type": "execute_result"
    }
   ],
   "source": [
    "list(map(mysquare,mylist))"
   ]
  },
  {
   "cell_type": "markdown",
   "id": "8f2a3d77",
   "metadata": {},
   "source": [
    "# filter function "
   ]
  },
  {
   "cell_type": "code",
   "execution_count": 36,
   "id": "d6b2a879",
   "metadata": {},
   "outputs": [],
   "source": [
    "def check_even(num):\n",
    "    if num%2==0:\n",
    "        return num"
   ]
  },
  {
   "cell_type": "code",
   "execution_count": 37,
   "id": "e9e6aa01",
   "metadata": {},
   "outputs": [
    {
     "data": {
      "text/plain": [
       "<filter at 0x1daf7885ac0>"
      ]
     },
     "execution_count": 37,
     "metadata": {},
     "output_type": "execute_result"
    }
   ],
   "source": [
    "filter(check_even,[1,2,3,4])"
   ]
  },
  {
   "cell_type": "code",
   "execution_count": 38,
   "id": "3cfbf08a",
   "metadata": {},
   "outputs": [
    {
     "data": {
      "text/plain": [
       "[2, 4]"
      ]
     },
     "execution_count": 38,
     "metadata": {},
     "output_type": "execute_result"
    }
   ],
   "source": [
    "list(filter(check_even,[1,2,3,4]))"
   ]
  },
  {
   "cell_type": "markdown",
   "id": "45f4f8c6",
   "metadata": {},
   "source": [
    "# lambda expression\n",
    "#how a function is converted to lambda expression step by step"
   ]
  },
  {
   "cell_type": "code",
   "execution_count": 40,
   "id": "d8cb70ec",
   "metadata": {},
   "outputs": [],
   "source": [
    "my_square=lambda num:num**2"
   ]
  },
  {
   "cell_type": "code",
   "execution_count": 41,
   "id": "00350b2e",
   "metadata": {},
   "outputs": [
    {
     "data": {
      "text/plain": [
       "4"
      ]
     },
     "execution_count": 41,
     "metadata": {},
     "output_type": "execute_result"
    }
   ],
   "source": [
    "my_square(2)"
   ]
  },
  {
   "cell_type": "code",
   "execution_count": 44,
   "id": "aacf955f",
   "metadata": {},
   "outputs": [
    {
     "data": {
      "text/plain": [
       "[1, 4, 9, 16]"
      ]
     },
     "execution_count": 44,
     "metadata": {},
     "output_type": "execute_result"
    }
   ],
   "source": [
    "mylist=[1,2,3,4]\n",
    "list(map(lambda num:num**2,mylist))"
   ]
  },
  {
   "cell_type": "code",
   "execution_count": 46,
   "id": "e291014a",
   "metadata": {},
   "outputs": [
    {
     "data": {
      "text/plain": [
       "[2, 4]"
      ]
     },
     "execution_count": 46,
     "metadata": {},
     "output_type": "execute_result"
    }
   ],
   "source": [
    "list(filter(lambda num:num%2==0,[1,2,3,4]))"
   ]
  },
  {
   "cell_type": "markdown",
   "id": "de6b0103",
   "metadata": {},
   "source": [
    "# assignment: reverse a string 'silicon' using lambda expression"
   ]
  },
  {
   "cell_type": "code",
   "execution_count": null,
   "id": "7bc15341",
   "metadata": {},
   "outputs": [],
   "source": []
  },
  {
   "cell_type": "code",
   "execution_count": 50,
   "id": "c8e54fa7",
   "metadata": {},
   "outputs": [],
   "source": [
    "x=100\n",
    "def xyz():\n",
    "    x=70\n",
    "    return x\n"
   ]
  },
  {
   "cell_type": "code",
   "execution_count": 51,
   "id": "f773d8ae",
   "metadata": {},
   "outputs": [
    {
     "data": {
      "text/plain": [
       "70"
      ]
     },
     "execution_count": 51,
     "metadata": {},
     "output_type": "execute_result"
    }
   ],
   "source": [
    "xyz()"
   ]
  },
  {
   "cell_type": "markdown",
   "id": "3a03d27f",
   "metadata": {},
   "source": [
    "# oop\n"
   ]
  },
  {
   "cell_type": "code",
   "execution_count": 53,
   "id": "75900d1d",
   "metadata": {},
   "outputs": [],
   "source": [
    "class student():\n",
    "    def __init__(self,name,regd):\n",
    "        self.name=name\n",
    "        self.regd=regd"
   ]
  },
  {
   "cell_type": "code",
   "execution_count": 54,
   "id": "4533dc48",
   "metadata": {},
   "outputs": [],
   "source": [
    "x=student('xyz',12345)"
   ]
  },
  {
   "cell_type": "code",
   "execution_count": 55,
   "id": "97af950c",
   "metadata": {},
   "outputs": [
    {
     "data": {
      "text/plain": [
       "<__main__.student at 0x1daf76d9790>"
      ]
     },
     "execution_count": 55,
     "metadata": {},
     "output_type": "execute_result"
    }
   ],
   "source": [
    "x"
   ]
  },
  {
   "cell_type": "code",
   "execution_count": 58,
   "id": "e08f8087",
   "metadata": {},
   "outputs": [
    {
     "data": {
      "text/plain": [
       "'xyz'"
      ]
     },
     "execution_count": 58,
     "metadata": {},
     "output_type": "execute_result"
    }
   ],
   "source": [
    "x.name"
   ]
  },
  {
   "cell_type": "code",
   "execution_count": 59,
   "id": "2001f8a6",
   "metadata": {},
   "outputs": [
    {
     "data": {
      "text/plain": [
       "12345"
      ]
     },
     "execution_count": 59,
     "metadata": {},
     "output_type": "execute_result"
    }
   ],
   "source": [
    "x.regd"
   ]
  },
  {
   "cell_type": "code",
   "execution_count": null,
   "id": "09b80f42",
   "metadata": {},
   "outputs": [],
   "source": []
  }
 ],
 "metadata": {
  "kernelspec": {
   "display_name": "Python 3",
   "language": "python",
   "name": "python3"
  },
  "language_info": {
   "codemirror_mode": {
    "name": "ipython",
    "version": 3
   },
   "file_extension": ".py",
   "mimetype": "text/x-python",
   "name": "python",
   "nbconvert_exporter": "python",
   "pygments_lexer": "ipython3",
   "version": "3.8.8"
  }
 },
 "nbformat": 4,
 "nbformat_minor": 5
}
