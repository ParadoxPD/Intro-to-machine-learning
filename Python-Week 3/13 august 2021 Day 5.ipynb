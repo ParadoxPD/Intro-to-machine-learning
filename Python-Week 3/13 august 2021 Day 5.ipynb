{
 "cells": [
  {
   "cell_type": "markdown",
   "id": "7593f7e8",
   "metadata": {},
   "source": [
    "# wap to check a no. ina list is even or odd ,then only odd no. to be printed"
   ]
  },
  {
   "cell_type": "code",
   "execution_count": 3,
   "id": "17e7f2e2",
   "metadata": {},
   "outputs": [
    {
     "name": "stdout",
     "output_type": "stream",
     "text": [
      "1 is odd no.\n",
      "7 is odd no.\n",
      "9 is odd no.\n"
     ]
    }
   ],
   "source": [
    "s=[1,2,4,6,7,8,9]\n",
    "for i in s:\n",
    "    if(i%2==0):\n",
    "        continue\n",
    "    else:\n",
    "        print(i,\"is odd no.\")"
   ]
  },
  {
   "cell_type": "code",
   "execution_count": 4,
   "id": "c1aeee53",
   "metadata": {},
   "outputs": [
    {
     "name": "stdout",
     "output_type": "stream",
     "text": [
      "1 is odd no.\n",
      "7 is odd no.\n",
      "9 is odd no.\n"
     ]
    }
   ],
   "source": [
    "s=[1,2,4,6,7,8,9]\n",
    "l=len(s)\n",
    "for i in range(0,l):\n",
    "    if(s[i]%2==0):\n",
    "        continue\n",
    "    else:\n",
    "        print(s[i],\"is odd no.\")"
   ]
  },
  {
   "cell_type": "code",
   "execution_count": 12,
   "id": "cc404975",
   "metadata": {},
   "outputs": [
    {
     "name": "stdout",
     "output_type": "stream",
     "text": [
      "0 . silicon\n",
      "1 . silicon\n",
      "2 . silicon\n",
      "3 . silicon\n",
      "4 . silicon\n"
     ]
    }
   ],
   "source": [
    "a=5\n",
    "for i in range (0,a):\n",
    "    print(i,'.',\"silicon\")"
   ]
  },
  {
   "cell_type": "code",
   "execution_count": 13,
   "id": "e2e0c479",
   "metadata": {},
   "outputs": [
    {
     "name": "stdout",
     "output_type": "stream",
     "text": [
      "0\n",
      "2\n",
      "4\n"
     ]
    }
   ],
   "source": [
    "for a in range(0,6,2):\n",
    "    print(a)"
   ]
  },
  {
   "cell_type": "code",
   "execution_count": 14,
   "id": "0f5cdfb0",
   "metadata": {},
   "outputs": [
    {
     "data": {
      "text/plain": [
       "range(0, 5)"
      ]
     },
     "execution_count": 14,
     "metadata": {},
     "output_type": "execute_result"
    }
   ],
   "source": [
    "range(0,5)"
   ]
  },
  {
   "cell_type": "code",
   "execution_count": 15,
   "id": "013b4a74",
   "metadata": {},
   "outputs": [
    {
     "data": {
      "text/plain": [
       "[0, 1, 2, 3, 4]"
      ]
     },
     "execution_count": 15,
     "metadata": {},
     "output_type": "execute_result"
    }
   ],
   "source": [
    "list(range(0,5))"
   ]
  },
  {
   "cell_type": "code",
   "execution_count": 18,
   "id": "9551d30c",
   "metadata": {},
   "outputs": [
    {
     "name": "stdout",
     "output_type": "stream",
     "text": [
      "0 , s\n",
      "1 , i\n",
      "2 , l\n",
      "3 , i\n",
      "4 , c\n",
      "5 , o\n",
      "6 , n\n"
     ]
    }
   ],
   "source": [
    "string='silicon'\n",
    "l=len(string)\n",
    "for i in range (0,l):\n",
    "    print(i,',',string[i])"
   ]
  },
  {
   "cell_type": "code",
   "execution_count": 17,
   "id": "67ed22ad",
   "metadata": {},
   "outputs": [
    {
     "name": "stdout",
     "output_type": "stream",
     "text": [
      "0,s\n",
      "1,i\n",
      "2,l\n",
      "3,i\n",
      "4,c\n",
      "5,o\n",
      "6,n\n"
     ]
    }
   ],
   "source": [
    "count=0\n",
    "for i in string:\n",
    "    print('{},{}'.format(count,i))\n",
    "    count=count+1"
   ]
  },
  {
   "cell_type": "markdown",
   "id": "af99e13c",
   "metadata": {},
   "source": [
    "# enumerate"
   ]
  },
  {
   "cell_type": "code",
   "execution_count": 19,
   "id": "9cfb2058",
   "metadata": {},
   "outputs": [
    {
     "name": "stdout",
     "output_type": "stream",
     "text": [
      "(0, 's')\n",
      "(1, 'i')\n",
      "(2, 'l')\n",
      "(3, 'i')\n",
      "(4, 'c')\n",
      "(5, 'o')\n",
      "(6, 'n')\n"
     ]
    }
   ],
   "source": [
    "mystring='silicon'\n",
    "for a in enumerate(mystring):\n",
    "    print(a)"
   ]
  },
  {
   "cell_type": "code",
   "execution_count": 20,
   "id": "a7c76211",
   "metadata": {},
   "outputs": [
    {
     "name": "stdout",
     "output_type": "stream",
     "text": [
      "0\n",
      "s\n",
      "1\n",
      "i\n",
      "2\n",
      "l\n",
      "3\n",
      "i\n",
      "4\n",
      "c\n",
      "5\n",
      "o\n",
      "6\n",
      "n\n"
     ]
    }
   ],
   "source": [
    "for (a,b) in enumerate(mystring):\n",
    "    print(a)\n",
    "    print(b)"
   ]
  },
  {
   "cell_type": "markdown",
   "id": "f81c3ea6",
   "metadata": {},
   "source": [
    "# zip"
   ]
  },
  {
   "cell_type": "code",
   "execution_count": 22,
   "id": "12e6614e",
   "metadata": {},
   "outputs": [
    {
     "name": "stdout",
     "output_type": "stream",
     "text": [
      "(1, 2)\n",
      "(3, 4)\n",
      "(5, 6)\n"
     ]
    }
   ],
   "source": [
    "list1=[1,3,5]\n",
    "list2=[2,4,6]\n",
    "for a in zip(list1,list2):\n",
    "    print(a)"
   ]
  },
  {
   "cell_type": "code",
   "execution_count": 23,
   "id": "42823d04",
   "metadata": {},
   "outputs": [
    {
     "data": {
      "text/plain": [
       "True"
      ]
     },
     "execution_count": 23,
     "metadata": {},
     "output_type": "execute_result"
    }
   ],
   "source": [
    "2 in [1,0,2]"
   ]
  },
  {
   "cell_type": "code",
   "execution_count": 27,
   "id": "d3331973",
   "metadata": {},
   "outputs": [
    {
     "name": "stdout",
     "output_type": "stream",
     "text": [
      "4\n",
      "5\n",
      "8\n",
      "10\n",
      "12\n",
      "15\n"
     ]
    }
   ],
   "source": [
    "list1=[1,2,3]\n",
    "list2=[4,5]\n",
    "result=[]\n",
    "for a in (list1):\n",
    "    for b in (list2):\n",
    "        print(a*b)\n",
    "        result.append(a*b)"
   ]
  },
  {
   "cell_type": "markdown",
   "id": "25059f4b",
   "metadata": {},
   "source": [
    "# list comprehension"
   ]
  },
  {
   "cell_type": "code",
   "execution_count": 29,
   "id": "5cc96176",
   "metadata": {},
   "outputs": [
    {
     "name": "stdout",
     "output_type": "stream",
     "text": [
      "[1, 16, 36, 49, 64]\n"
     ]
    }
   ],
   "source": [
    "list2=[1,4,6,7,8]\n",
    "result=[a*a for a in list2]\n",
    "print(result)"
   ]
  },
  {
   "cell_type": "code",
   "execution_count": 5,
   "id": "3e6968d1",
   "metadata": {},
   "outputs": [
    {
     "name": "stdout",
     "output_type": "stream",
     "text": [
      "[7, 11, 19, 6, 9, 15, 5, 7, 11]\n"
     ]
    }
   ],
   "source": [
    "slope=[4,3,2]\n",
    "cor=[1,2,4]\n",
    "c=3\n",
    "y=[(m*x+c) for m in slope for x in cor]\n",
    "print(y)"
   ]
  },
  {
   "cell_type": "code",
   "execution_count": null,
   "id": "f2bd4f72",
   "metadata": {},
   "outputs": [],
   "source": []
  }
 ],
 "metadata": {
  "kernelspec": {
   "display_name": "Python 3",
   "language": "python",
   "name": "python3"
  },
  "language_info": {
   "codemirror_mode": {
    "name": "ipython",
    "version": 3
   },
   "file_extension": ".py",
   "mimetype": "text/x-python",
   "name": "python",
   "nbconvert_exporter": "python",
   "pygments_lexer": "ipython3",
   "version": "3.8.8"
  }
 },
 "nbformat": 4,
 "nbformat_minor": 5
}
