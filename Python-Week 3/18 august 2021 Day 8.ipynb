{
 "cells": [
  {
   "cell_type": "markdown",
   "id": "043052f8",
   "metadata": {},
   "source": [
    "# oop day 2\n"
   ]
  },
  {
   "cell_type": "code",
   "execution_count": 5,
   "id": "a5dc639b",
   "metadata": {},
   "outputs": [],
   "source": [
    "class student():\n",
    "    def __init__(self,name,regd):\n",
    "        self.name=name\n",
    "        self.regd=regd"
   ]
  },
  {
   "cell_type": "code",
   "execution_count": 6,
   "id": "1d3626fd",
   "metadata": {},
   "outputs": [],
   "source": [
    "y=student('kalinga',500)"
   ]
  },
  {
   "cell_type": "code",
   "execution_count": 8,
   "id": "5f4aa1bf",
   "metadata": {},
   "outputs": [
    {
     "data": {
      "text/plain": [
       "'kalinga'"
      ]
     },
     "execution_count": 8,
     "metadata": {},
     "output_type": "execute_result"
    }
   ],
   "source": [
    "y.name\n"
   ]
  },
  {
   "cell_type": "code",
   "execution_count": 12,
   "id": "6fb8d0a0",
   "metadata": {},
   "outputs": [],
   "source": [
    "class student():\n",
    "    def __init__(self,name,regd):\n",
    "        self.name=name\n",
    "        self.regd=regd\n",
    "    def xyz(self):\n",
    "        print(f\"hello!i am {self.name} and regd no is {self.regd}\")"
   ]
  },
  {
   "cell_type": "code",
   "execution_count": 10,
   "id": "e5189d43",
   "metadata": {},
   "outputs": [],
   "source": [
    "z=student('kalinga',500)"
   ]
  },
  {
   "cell_type": "code",
   "execution_count": 11,
   "id": "6e5eeea5",
   "metadata": {},
   "outputs": [
    {
     "name": "stdout",
     "output_type": "stream",
     "text": [
      "hello!i am kalinga and regd no is 500\n"
     ]
    }
   ],
   "source": [
    "z.xyz()"
   ]
  },
  {
   "cell_type": "markdown",
   "id": "6e522f5d",
   "metadata": {},
   "source": [
    "# class object attribute"
   ]
  },
  {
   "cell_type": "code",
   "execution_count": 15,
   "id": "f8dbcb05",
   "metadata": {},
   "outputs": [],
   "source": [
    "class student():\n",
    "    course= \"intro to ML\"# course is an attributr defined as class object\n",
    "    def __init__(self,name,regd):\n",
    "        self.name=name\n",
    "        self.regd=regd\n",
    "    def xyz(self):\n",
    "        print(f\"hello!i am {self.name} and regd no is {self.regd}\")"
   ]
  },
  {
   "cell_type": "code",
   "execution_count": 16,
   "id": "0e7a39d6",
   "metadata": {},
   "outputs": [],
   "source": [
    "z=student('krishna',420)"
   ]
  },
  {
   "cell_type": "code",
   "execution_count": 17,
   "id": "a7974ea5",
   "metadata": {},
   "outputs": [
    {
     "data": {
      "text/plain": [
       "'krishna'"
      ]
     },
     "execution_count": 17,
     "metadata": {},
     "output_type": "execute_result"
    }
   ],
   "source": [
    "z.name\n"
   ]
  },
  {
   "cell_type": "code",
   "execution_count": 30,
   "id": "fe5729a7",
   "metadata": {},
   "outputs": [],
   "source": [
    "class student():\n",
    "    \n",
    "    def __init__(self,name,regd):\n",
    "        self.name=name\n",
    "        self.regd=regd\n",
    "    def xyz(self,score):\n",
    "        print(f\"hello!i am {self.name} and regd no is {self.regd}and score is {score}\")"
   ]
  },
  {
   "cell_type": "code",
   "execution_count": 31,
   "id": "05b88493",
   "metadata": {},
   "outputs": [],
   "source": [
    "z=student('Raj',122)"
   ]
  },
  {
   "cell_type": "code",
   "execution_count": 32,
   "id": "dd01f8f4",
   "metadata": {},
   "outputs": [
    {
     "name": "stdout",
     "output_type": "stream",
     "text": [
      "hello!i am Raj and regd no is 122and score is 10\n"
     ]
    }
   ],
   "source": [
    "z.xyz(10)"
   ]
  },
  {
   "cell_type": "markdown",
   "id": "85433eda",
   "metadata": {},
   "source": [
    "# wap to calculate area and circumference of a circle  \n",
    " attribute=radius\n",
    " method circumference-> evaluate circumference of a circle ."
   ]
  },
  {
   "cell_type": "code",
   "execution_count": 44,
   "id": "a137da1a",
   "metadata": {},
   "outputs": [],
   "source": [
    "class circle():\n",
    "    def __init__(self,r):\n",
    "        self.r=r\n",
    "        self.area=3.14*(self.r)*(self.r)\n",
    "    def circumference(self):\n",
    "        print(f\"circumference is {2*3.14*(self.r)}\")"
   ]
  },
  {
   "cell_type": "code",
   "execution_count": 45,
   "id": "57a861c6",
   "metadata": {},
   "outputs": [],
   "source": [
    "z=circle(2)"
   ]
  },
  {
   "cell_type": "code",
   "execution_count": 46,
   "id": "41eef7e0",
   "metadata": {},
   "outputs": [
    {
     "name": "stdout",
     "output_type": "stream",
     "text": [
      "circumference is 12.56\n"
     ]
    }
   ],
   "source": [
    "z.circumference()"
   ]
  },
  {
   "cell_type": "code",
   "execution_count": 41,
   "id": "5bb778f2",
   "metadata": {},
   "outputs": [
    {
     "ename": "TypeError",
     "evalue": "'float' object is not callable",
     "output_type": "error",
     "traceback": [
      "\u001b[1;31m---------------------------------------------------------------------------\u001b[0m",
      "\u001b[1;31mTypeError\u001b[0m                                 Traceback (most recent call last)",
      "\u001b[1;32m<ipython-input-41-2b5da93e12e0>\u001b[0m in \u001b[0;36m<module>\u001b[1;34m\u001b[0m\n\u001b[1;32m----> 1\u001b[1;33m \u001b[0mz\u001b[0m\u001b[1;33m.\u001b[0m\u001b[0marea\u001b[0m\u001b[1;33m(\u001b[0m\u001b[1;33m)\u001b[0m\u001b[1;33m\u001b[0m\u001b[1;33m\u001b[0m\u001b[0m\n\u001b[0m",
      "\u001b[1;31mTypeError\u001b[0m: 'float' object is not callable"
     ]
    }
   ],
   "source": [
    "z.area()             "
   ]
  },
  {
   "cell_type": "code",
   "execution_count": null,
   "id": "6a3518c4",
   "metadata": {},
   "outputs": [],
   "source": []
  }
 ],
 "metadata": {
  "kernelspec": {
   "display_name": "Python 3",
   "language": "python",
   "name": "python3"
  },
  "language_info": {
   "codemirror_mode": {
    "name": "ipython",
    "version": 3
   },
   "file_extension": ".py",
   "mimetype": "text/x-python",
   "name": "python",
   "nbconvert_exporter": "python",
   "pygments_lexer": "ipython3",
   "version": "3.8.8"
  }
 },
 "nbformat": 4,
 "nbformat_minor": 5
}
