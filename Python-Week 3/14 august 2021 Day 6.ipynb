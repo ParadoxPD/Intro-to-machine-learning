{
 "cells": [
  {
   "cell_type": "markdown",
   "id": "7f41a088",
   "metadata": {},
   "source": [
    "# fucnction"
   ]
  },
  {
   "cell_type": "markdown",
   "id": "250d7efe",
   "metadata": {},
   "source": [
    "# create a function using python \n",
    "\n",
    "syntax  : def name_of_function():"
   ]
  },
  {
   "cell_type": "code",
   "execution_count": 1,
   "id": "f489ea22",
   "metadata": {},
   "outputs": [
    {
     "name": "stdout",
     "output_type": "stream",
     "text": [
      "5\n"
     ]
    }
   ],
   "source": [
    "def summation(x,y):\n",
    "    print(x+y)\n",
    "    \n",
    "summation(2,3)"
   ]
  },
  {
   "cell_type": "code",
   "execution_count": 5,
   "id": "6d18221c",
   "metadata": {},
   "outputs": [
    {
     "name": "stdout",
     "output_type": "stream",
     "text": [
      "-1\n"
     ]
    }
   ],
   "source": [
    "#return \n",
    "def subtract(x,y):\n",
    "    return(x-y)\n",
    "t=subtract(9,10)\n",
    "print(t)"
   ]
  },
  {
   "cell_type": "code",
   "execution_count": 25,
   "id": "d663dbb6",
   "metadata": {},
   "outputs": [
    {
     "name": "stdout",
     "output_type": "stream",
     "text": [
      "[]\n"
     ]
    }
   ],
   "source": [
    "#use function to check list is even or odd and return only even no. \n",
    "def check_number(m):\n",
    "    k=[]\n",
    "    lent=len(m)\n",
    "    for i in range(0,lent):\n",
    "        if(m[i]%2==0):\n",
    "            k.append(m[i])\n",
    "    return(k)           \n",
    "l=[1,2,3,4,5]\n",
    "t=check_number(l)\n",
    "print(k)"
   ]
  },
  {
   "cell_type": "code",
   "execution_count": 24,
   "id": "a4e04109",
   "metadata": {},
   "outputs": [
    {
     "name": "stdout",
     "output_type": "stream",
     "text": [
      "('gita', 100)\n"
     ]
    }
   ],
   "source": [
    "# student dictionary\n",
    "def studentname(k):\n",
    "    j=0\n",
    "    student=''\n",
    "    for i,J in k:\n",
    "        if J>j:\n",
    "            j=J\n",
    "            student=i\n",
    "    return(student,j)    \n",
    "\n",
    "D=[('ram',50),('gita',100),('shyam',30)]\n",
    "highmark=studentname(D)\n",
    "print(highmark)"
   ]
  },
  {
   "cell_type": "code",
   "execution_count": 26,
   "id": "c9247c9d",
   "metadata": {},
   "outputs": [],
   "source": [
    "mylist=[1,2,3,5]\n",
    "from random import shuffle\n",
    "shuffle(mylist)"
   ]
  },
  {
   "cell_type": "code",
   "execution_count": null,
   "id": "bfcfff7b",
   "metadata": {},
   "outputs": [],
   "source": []
  }
 ],
 "metadata": {
  "kernelspec": {
   "display_name": "Python 3",
   "language": "python",
   "name": "python3"
  },
  "language_info": {
   "codemirror_mode": {
    "name": "ipython",
    "version": 3
   },
   "file_extension": ".py",
   "mimetype": "text/x-python",
   "name": "python",
   "nbconvert_exporter": "python",
   "pygments_lexer": "ipython3",
   "version": "3.8.8"
  }
 },
 "nbformat": 4,
 "nbformat_minor": 5
}
