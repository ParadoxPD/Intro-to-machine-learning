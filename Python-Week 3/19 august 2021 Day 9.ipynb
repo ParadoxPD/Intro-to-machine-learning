{
 "cells": [
  {
   "cell_type": "markdown",
   "id": "cd9d8ace",
   "metadata": {},
   "source": [
    "# inheritance"
   ]
  },
  {
   "cell_type": "code",
   "execution_count": 1,
   "id": "65c986a3",
   "metadata": {},
   "outputs": [],
   "source": [
    "class student1():\n",
    "    def __init__(self,name,regd):\n",
    "        self.name=name\n",
    "        self.regd=regd\n",
    "    def xyz(self):\n",
    "        print(f\"hello!i am {self.name} and regd no is {self.regd}\")"
   ]
  },
  {
   "cell_type": "code",
   "execution_count": 2,
   "id": "7913a58e",
   "metadata": {},
   "outputs": [],
   "source": [
    "class student2(student1):\n",
    "    pass\n",
    "    "
   ]
  },
  {
   "cell_type": "code",
   "execution_count": 3,
   "id": "befc178b",
   "metadata": {},
   "outputs": [],
   "source": [
    "x=student2('asha',141092)"
   ]
  },
  {
   "cell_type": "code",
   "execution_count": 4,
   "id": "bdbd9464",
   "metadata": {},
   "outputs": [
    {
     "data": {
      "text/plain": [
       "141092"
      ]
     },
     "execution_count": 4,
     "metadata": {},
     "output_type": "execute_result"
    }
   ],
   "source": [
    "x.regd\n"
   ]
  },
  {
   "cell_type": "code",
   "execution_count": 5,
   "id": "64cb0daf",
   "metadata": {},
   "outputs": [
    {
     "name": "stdout",
     "output_type": "stream",
     "text": [
      "hello!i am asha and regd no is 141092\n"
     ]
    }
   ],
   "source": [
    "x.xyz()"
   ]
  },
  {
   "cell_type": "code",
   "execution_count": 6,
   "id": "5acc6193",
   "metadata": {},
   "outputs": [],
   "source": [
    "class student2(student1):\n",
    "    def __init__(self,clg,batch):\n",
    "        self.clg=clg\n",
    "        self.batch=batch"
   ]
  },
  {
   "cell_type": "code",
   "execution_count": 7,
   "id": "1127e490",
   "metadata": {},
   "outputs": [],
   "source": [
    "y=student2('silicon',2020)"
   ]
  },
  {
   "cell_type": "code",
   "execution_count": 17,
   "id": "67fb4c96",
   "metadata": {},
   "outputs": [],
   "source": [
    "class student2(student1):\n",
    "    def __init__(self,clg,batch,name,regd):\n",
    "        student1.__init__(self,name,regd)\n",
    "        self.clg=clg\n",
    "        self.batch=batch"
   ]
  },
  {
   "cell_type": "code",
   "execution_count": 19,
   "id": "e2ca64a8",
   "metadata": {},
   "outputs": [],
   "source": [
    "a=student2('Kabir',220,'silicon',2020)"
   ]
  },
  {
   "cell_type": "code",
   "execution_count": null,
   "id": "54cf85f8",
   "metadata": {},
   "outputs": [],
   "source": [
    "a."
   ]
  },
  {
   "cell_type": "code",
   "execution_count": 20,
   "id": "85cc5ad3",
   "metadata": {},
   "outputs": [],
   "source": [
    "class student2(student1):\n",
    "    def __init__(self,clg,batch,name,regd):\n",
    "        super().__init__(name,regd)\n",
    "        self.clg=clg\n",
    "        self.batch=batch"
   ]
  },
  {
   "cell_type": "code",
   "execution_count": 21,
   "id": "dd7f957c",
   "metadata": {},
   "outputs": [],
   "source": [
    "a=student2('Kabir',220,'silicon',2020)"
   ]
  },
  {
   "cell_type": "code",
   "execution_count": 23,
   "id": "83798051",
   "metadata": {},
   "outputs": [
    {
     "data": {
      "text/plain": [
       "'silicon'"
      ]
     },
     "execution_count": 23,
     "metadata": {},
     "output_type": "execute_result"
    }
   ],
   "source": [
    "a.name\n"
   ]
  },
  {
   "cell_type": "markdown",
   "id": "50b6ec18",
   "metadata": {},
   "source": [
    "# Exception handling:\n",
    "# using try,except,finally block"
   ]
  },
  {
   "cell_type": "code",
   "execution_count": 24,
   "id": "5694cbb1",
   "metadata": {},
   "outputs": [
    {
     "ename": "TypeError",
     "evalue": "unsupported operand type(s) for +: 'int' and 'str'",
     "output_type": "error",
     "traceback": [
      "\u001b[1;31m---------------------------------------------------------------------------\u001b[0m",
      "\u001b[1;31mTypeError\u001b[0m                                 Traceback (most recent call last)",
      "\u001b[1;32m<ipython-input-24-a4f5c24e4939>\u001b[0m in \u001b[0;36m<module>\u001b[1;34m\u001b[0m\n\u001b[1;32m----> 1\u001b[1;33m \u001b[0mx\u001b[0m\u001b[1;33m=\u001b[0m\u001b[1;36m20\u001b[0m\u001b[1;33m+\u001b[0m\u001b[1;34m'20'\u001b[0m\u001b[1;33m\u001b[0m\u001b[1;33m\u001b[0m\u001b[0m\n\u001b[0m",
      "\u001b[1;31mTypeError\u001b[0m: unsupported operand type(s) for +: 'int' and 'str'"
     ]
    }
   ],
   "source": [
    "x=20+'20'"
   ]
  },
  {
   "cell_type": "code",
   "execution_count": 28,
   "id": "8b4adff6",
   "metadata": {},
   "outputs": [
    {
     "name": "stdout",
     "output_type": "stream",
     "text": [
      "there is an type error\n"
     ]
    }
   ],
   "source": [
    "try:\n",
    "    x=20+'20'\n",
    "except:\n",
    "    print(\"there is an type error\")\n"
   ]
  },
  {
   "cell_type": "code",
   "execution_count": 29,
   "id": "aef9a4ac",
   "metadata": {},
   "outputs": [
    {
     "name": "stdout",
     "output_type": "stream",
     "text": [
      "enter a no.=12\n"
     ]
    },
    {
     "ename": "TypeError",
     "evalue": "unsupported operand type(s) for +: 'int' and 'str'",
     "output_type": "error",
     "traceback": [
      "\u001b[1;31m---------------------------------------------------------------------------\u001b[0m",
      "\u001b[1;31mTypeError\u001b[0m                                 Traceback (most recent call last)",
      "\u001b[1;32m<ipython-input-29-c82983b8f2bc>\u001b[0m in \u001b[0;36m<module>\u001b[1;34m\u001b[0m\n\u001b[0;32m      1\u001b[0m \u001b[0ma\u001b[0m\u001b[1;33m=\u001b[0m\u001b[1;36m20\u001b[0m\u001b[1;33m\u001b[0m\u001b[1;33m\u001b[0m\u001b[0m\n\u001b[0;32m      2\u001b[0m \u001b[0mb\u001b[0m\u001b[1;33m=\u001b[0m\u001b[0minput\u001b[0m\u001b[1;33m(\u001b[0m\u001b[1;34m'enter a no.='\u001b[0m\u001b[1;33m)\u001b[0m\u001b[1;33m\u001b[0m\u001b[1;33m\u001b[0m\u001b[0m\n\u001b[1;32m----> 3\u001b[1;33m \u001b[0mx\u001b[0m\u001b[1;33m=\u001b[0m\u001b[0ma\u001b[0m\u001b[1;33m+\u001b[0m\u001b[0mb\u001b[0m\u001b[1;33m\u001b[0m\u001b[1;33m\u001b[0m\u001b[0m\n\u001b[0m\u001b[0;32m      4\u001b[0m \u001b[0mprint\u001b[0m\u001b[1;33m(\u001b[0m\u001b[0mx\u001b[0m\u001b[1;33m)\u001b[0m\u001b[1;33m\u001b[0m\u001b[1;33m\u001b[0m\u001b[0m\n",
      "\u001b[1;31mTypeError\u001b[0m: unsupported operand type(s) for +: 'int' and 'str'"
     ]
    }
   ],
   "source": [
    "a=20\n",
    "b=input('enter a no.=')\n",
    "x=a+b\n",
    "print(x)\n"
   ]
  },
  {
   "cell_type": "code",
   "execution_count": 31,
   "id": "b9ba1591",
   "metadata": {},
   "outputs": [
    {
     "name": "stdout",
     "output_type": "stream",
     "text": [
      "enter a no.='12'\n",
      "there is a type error\n",
      "implemented successfully\n"
     ]
    }
   ],
   "source": [
    "try:\n",
    "    a=20\n",
    "    b=int(input('enter a no.='))\n",
    "    x=a+b\n",
    "    print(x)\n",
    "except:\n",
    "    print('there is a type error')\n",
    "finally:\n",
    "    print(\"implemented successfully\")\n",
    "\n",
    "    "
   ]
  },
  {
   "cell_type": "markdown",
   "id": "2d44f60e",
   "metadata": {},
   "source": []
  }
 ],
 "metadata": {
  "kernelspec": {
   "display_name": "Python 3",
   "language": "python",
   "name": "python3"
  },
  "language_info": {
   "codemirror_mode": {
    "name": "ipython",
    "version": 3
   },
   "file_extension": ".py",
   "mimetype": "text/x-python",
   "name": "python",
   "nbconvert_exporter": "python",
   "pygments_lexer": "ipython3",
   "version": "3.8.8"
  }
 },
 "nbformat": 4,
 "nbformat_minor": 5
}
