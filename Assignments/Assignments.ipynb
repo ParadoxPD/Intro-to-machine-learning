{
 "cells": [
  {
   "cell_type": "markdown",
   "id": "22120f36-0bd3-4d4f-82db-176ad0961768",
   "metadata": {},
   "source": [
    "\n",
    "# Assignments\n",
    "\n",
    "#### *By Priyanshu Das | SIC : 20BCSE21 | Branch : CSE*\n",
    "\n",
    "---\n",
    "\n",
    "## Assignment 1\n",
    "\n",
    "---\n"
   ]
  },
  {
   "cell_type": "markdown",
   "id": "4b2eb64b-18f9-43ce-b2b4-e139c828ec03",
   "metadata": {},
   "source": [
    "## WAP using the ‘r+’ mode and ‘w+’ mode.\n",
    "\n",
    "- ```w+``` mode"
   ]
  },
  {
   "cell_type": "code",
   "execution_count": 1,
   "id": "daf52463-fbe3-44e6-a171-e004fd6ff94f",
   "metadata": {},
   "outputs": [],
   "source": [
    "# implementing using 'w+'\n",
    "with open('newfile.txt',mode='w+') as f:\n",
    "    language = 'Python'\n",
    "    f.write('Hie whatsup?? \\nThis is Priyanshu here!\\n')\n",
    "    f.write(f'Welcome to the Introduction to Machine Learning with {language}')\n",
    "\n"
   ]
  },
  {
   "cell_type": "markdown",
   "id": "c1ed1685-6c11-4298-af99-f9bc1683636e",
   "metadata": {},
   "source": [
    "- ```r+``` mode"
   ]
  },
  {
   "cell_type": "code",
   "execution_count": 2,
   "id": "58eba04d-81d7-4e93-ae0f-1f2388f4a0ca",
   "metadata": {},
   "outputs": [
    {
     "name": "stdout",
     "output_type": "stream",
     "text": [
      "Hie whatsup?? \n",
      "This is Priyanshu here!\n",
      "Welcome to the Introduction to Machine Learning with Python\n"
     ]
    }
   ],
   "source": [
    "# implementing using 'r+'\n",
    "with open('newfile.txt',mode='r+') as f:\n",
    "    data=f.read()\n",
    "    print(data)\n",
    "    \n",
    "    #Go to the Last Line to append data\n",
    "    length=len(data)\n",
    "    f.seek(length)\n",
    "    f.write('\\nThis is Priyanshu here !')\n"
   ]
  },
  {
   "cell_type": "code",
   "execution_count": 3,
   "id": "b5e88a7b-76be-4e85-9975-c7f0743ca133",
   "metadata": {},
   "outputs": [
    {
     "name": "stdout",
     "output_type": "stream",
     "text": [
      "Hie whatsup?? \n",
      "This is Priyanshu here!\n",
      "Welcome to the Introduction to Machine Learning with Pyth\n",
      "This is Priyanshu here !\n"
     ]
    }
   ],
   "source": [
    "\n",
    "#To check if data is appended\n",
    "with open('newfile.txt',mode='r+') as f:\n",
    "    data=f.read()\n",
    "    print(data)"
   ]
  },
  {
   "cell_type": "markdown",
   "id": "e4e7c2d3-c015-4483-98aa-7bd78a9f2d6a",
   "metadata": {},
   "source": [
    "---\n",
    "\n",
    "## Assignment 2\n",
    "\n",
    "---\n"
   ]
  },
  {
   "cell_type": "markdown",
   "id": "789192a6-c9d2-4df4-9ca0-154cbfa8c99e",
   "metadata": {},
   "source": [
    "## WAP to find out the user guess is correct or not from the given list after shuffled"
   ]
  },
  {
   "cell_type": "code",
   "execution_count": 4,
   "id": "2c483638-0446-4d5c-99dd-46758f566589",
   "metadata": {},
   "outputs": [
    {
     "name": "stdin",
     "output_type": "stream",
     "text": [
      "Guess the number at 1st position in an array consisting of numbers from 1 to 5: 3\n"
     ]
    },
    {
     "name": "stdout",
     "output_type": "stream",
     "text": [
      "Better luck next time :( . The element was  5\n"
     ]
    }
   ],
   "source": [
    "import numpy as np\n",
    "from numpy import random as rnd\n",
    "arr = np.arange(1,6,1)\n",
    "\n",
    "\n",
    "guess = int(input(\"Guess the number at 1st position in an array consisting of numbers from 1 to 5:\"))\n",
    "shuffled_arr = rnd.permutation(arr)\n",
    "\n",
    "if shuffled_arr[0]==guess:\n",
    "    print(\"Correct guess!\")\n",
    "else:\n",
    "    print(\"Better luck next time :( . The element was \", shuffled_arr[0])"
   ]
  },
  {
   "cell_type": "markdown",
   "id": "cacb8214-6d49-416e-9301-1923b8a77410",
   "metadata": {},
   "source": [
    "---\n",
    "\n",
    "## Assignment 3\n",
    "\n",
    "---\n"
   ]
  },
  {
   "cell_type": "markdown",
   "id": "6661773d-fd16-4fd8-a3b5-6985ea1365f3",
   "metadata": {},
   "source": [
    "## Reverse a string using lambda expression"
   ]
  },
  {
   "cell_type": "code",
   "execution_count": 5,
   "id": "7bc7c683-a645-473e-ae98-a5bbab07c682",
   "metadata": {},
   "outputs": [
    {
     "name": "stdout",
     "output_type": "stream",
     "text": [
      "gninraeL enihcaM\n"
     ]
    }
   ],
   "source": [
    "# Reverse the string using lambda expression\n",
    "\n",
    "rev=lambda x : x[::-1]\n",
    "\n",
    "inp = 'Machine Learning'\n",
    "out  = rev(inp)\n",
    "print(out)\n"
   ]
  },
  {
   "cell_type": "markdown",
   "id": "ab79d6e2-77d9-4e07-81ea-ee0eccb2195a",
   "metadata": {},
   "source": [
    "---\n",
    "\n",
    "## Assignment 4\n",
    "\n",
    "---\n"
   ]
  },
  {
   "cell_type": "markdown",
   "id": "167448ed-eb06-4c8d-a417-c407f00691fe",
   "metadata": {},
   "source": [
    "## Handle the exception thrown by the code below by using try-except block & use finally\n",
    "## block to print “Good Job!”\n",
    "\n",
    "Code :\n",
    "```python\n",
    "for i in [‘x’,’y’,’z’]:\n",
    "    print(i**2)\n",
    "```\n"
   ]
  },
  {
   "cell_type": "code",
   "execution_count": 6,
   "id": "20d2fc1f-3487-4f05-9432-0a47087a7627",
   "metadata": {},
   "outputs": [
    {
     "name": "stdout",
     "output_type": "stream",
     "text": [
      "Type Error\n",
      "Good job!\n"
     ]
    }
   ],
   "source": [
    "try:\n",
    "    for i in ['x','y','z']:\n",
    "        print(i**2)\n",
    "except SyntaxError:\n",
    "    print('Syntax Error')\n",
    "except TypeError:\n",
    "    print('Type Error')\n",
    "except OSError:\n",
    "    print('OS Error')\n",
    "finally:\n",
    "    print('Good job!')"
   ]
  },
  {
   "cell_type": "markdown",
   "id": "97029b26-c79c-4ed6-8a3c-6900a35ad316",
   "metadata": {},
   "source": [
    "---\n",
    "\n",
    "## Assignment 5\n",
    "\n",
    "---\n",
    "\n",
    "- ### **Standardization vs Normalization**\n",
    "\n",
    "    <p>\n",
    "    Normalization is a scaling technique in which values are shifted and rescaled so that they end up \n",
    "    ranging between 0 and 1 or between -1 and 1. It is also known as Min-Max scaling.\n",
    "\n",
    "    Here, Xmax and Xmin are the maximum and the minimum values of the feature respectively.\n",
    "\n",
    "        1. When the value of X is the minimum value in the column, the numerator will be 0, andhence X’ is 0\n",
    "        2. On the other hand, when the value of X is the maximum value in the column, the numeratoris equal to the denominator and thus the value of X’ is 1\n",
    "        3. If the value of X is between the minimum and the maximum value, then the value of X’ isbetween 0 and 1\n",
    "\n",
    "\n",
    "    Standardization is another scaling technique where the values are centered around the meanwith a unit standard deviation. This means that the mean of the attribute becomes zero and theresultant distribution has a unit standard deviation\n",
    "\n",
    "    However, at the end of the day, the choice of using normalization or standardization will depend on your problem and the machine learning algorithm you are using. There is no hard and fast rule to tell you when to normalize or standardize your data. **You can always start by fitting your model to raw, normalized and standardized data and compare the performance for best results.**\n",
    "\n",
    "    It is a good practice to fit the scaler on the training data and then use it to transform the testing data. *This would avoid any data leakage during the model testing process. Also, the scaling of target values is generally not required.*\n",
    "    </p>\n",
    "\n",
    "\n",
    "---\n",
    "\n",
    "- ### **What do you mean by the result pandas.core.frame.dataframe in ```type(dataset)``` ?**\n",
    "\n",
    "    <p>\n",
    "    Pandas DataFrame is two-dimensional size-mutable, potentially heterogeneous tabular datastructure with labeled axes (rows and columns). A Data frame is a two-dimensional datastructure, i.e., data is aligned in a tabular fashion in rows and columns. Pandas DataFrameconsists of three principal components, the data, rows, and columns.\n",
    "    </p>\n",
    "\n",
    "---\n",
    "\n",
    "- ### **What is nd here ?**\n",
    "\n",
    "    <p>\n",
    "    The most important object defined in NumPy is an N-dimensional array type called ndarray.It describes the collection of items of the same type. Items in the collection can be accessedusing a zero-based index.\n",
    "    </p>\n",
    "\n",
    "---\n",
    "\n",
    "- ### **What is the meaning of dtype = object ?**\n",
    "\n",
    "    <p>\n",
    "    Every item in an ndarray takes the same size ofblock in the memory. Each element in ndarray is an object of data-type object (calleddtype). The memory taken by the array now is filled with pointers to Python objects whichare being stored elsewhere in memory. Since various datatypes are being used in the table,dtype=object instead of int or float.\n",
    "    </p>\n",
    "\n",
    "---\n",
    "\n",
    "- ### **What is the significance of random_state=1 ?**\n",
    "\n",
    "    <p>\n",
    "    The random_state parameter is used for initializing the internal random number generator,which will decide the splitting of data into train and test indices in your case.If random_state isNone or np.random, then a randomly-initialized RandomState object is returned.If random_stateis an integer, then it is used to seed a new RandomState object.This is to check and validate thedata when running the code multiple times. Setting random_state a fixed value will guaranteethat the same sequence of random numbers is generated each time you run the code.\n",
    "    </p>\n",
    "\n",
    "---"
   ]
  }
 ],
 "metadata": {
  "kernelspec": {
   "display_name": "Python 3 (ipykernel)",
   "language": "python",
   "name": "python3"
  },
  "language_info": {
   "codemirror_mode": {
    "name": "ipython",
    "version": 3
   },
   "file_extension": ".py",
   "mimetype": "text/x-python",
   "name": "python",
   "nbconvert_exporter": "python",
   "pygments_lexer": "ipython3",
   "version": "3.9.1"
  }
 },
 "nbformat": 4,
 "nbformat_minor": 5
}
