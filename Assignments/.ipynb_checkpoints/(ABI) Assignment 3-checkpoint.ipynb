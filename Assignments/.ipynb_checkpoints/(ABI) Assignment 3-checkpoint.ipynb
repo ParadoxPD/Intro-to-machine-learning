{
 "cells": [
  {
   "cell_type": "markdown",
   "id": "c1f20675",
   "metadata": {},
   "source": [
    "# reverse the string"
   ]
  },
  {
   "cell_type": "code",
   "execution_count": 1,
   "id": "c9c6f1cc",
   "metadata": {},
   "outputs": [],
   "source": [
    "rev=lambda x : x[::-1]"
   ]
  },
  {
   "cell_type": "code",
   "execution_count": 2,
   "id": "d6c5a08f",
   "metadata": {},
   "outputs": [
    {
     "data": {
      "text/plain": [
       "'nociliS'"
      ]
     },
     "execution_count": 2,
     "metadata": {},
     "output_type": "execute_result"
    }
   ],
   "source": [
    "rev('Silicon')"
   ]
  },
  {
   "cell_type": "code",
   "execution_count": 1,
   "id": "1bf1d555",
   "metadata": {},
   "outputs": [
    {
     "name": "stdout",
     "output_type": "stream",
     "text": [
      "nociliS\n"
     ]
    }
   ],
   "source": [
    "# Reverse the string using lambda expression\n",
    "\n",
    "rev=lambda x : x[::-1]\n",
    "\n",
    "inp = 'Silicon'\n",
    "out  = rev(inp)\n",
    "print(out)\n"
   ]
  }
 ],
 "metadata": {
  "kernelspec": {
   "display_name": "Python 3 (ipykernel)",
   "language": "python",
   "name": "python3"
  },
  "language_info": {
   "codemirror_mode": {
    "name": "ipython",
    "version": 3
   },
   "file_extension": ".py",
   "mimetype": "text/x-python",
   "name": "python",
   "nbconvert_exporter": "python",
   "pygments_lexer": "ipython3",
   "version": "3.9.1"
  }
 },
 "nbformat": 4,
 "nbformat_minor": 5
}
