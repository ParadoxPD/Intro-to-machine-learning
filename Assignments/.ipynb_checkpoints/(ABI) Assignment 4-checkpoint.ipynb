{
 "cells": [
  {
   "cell_type": "markdown",
   "id": "8c0933c0",
   "metadata": {},
   "source": [
    "# use try,except and finally"
   ]
  },
  {
   "cell_type": "code",
   "execution_count": 2,
   "id": "7cdcdaa7",
   "metadata": {},
   "outputs": [
    {
     "name": "stdout",
     "output_type": "stream",
     "text": [
      "Type Error\n",
      "Good job!\n"
     ]
    }
   ],
   "source": [
    "try:\n",
    "    for i in ['x','y','z']:\n",
    "        print(i**2)\n",
    "except SyntaxError:\n",
    "    print('Syntax Error')\n",
    "except TypeError:\n",
    "    print('Type Error')\n",
    "except OSError:\n",
    "    print('OS Error')\n",
    "finally:\n",
    "    print('Good job!')"
   ]
  },
  {
   "cell_type": "code",
   "execution_count": null,
   "id": "a078436e",
   "metadata": {},
   "outputs": [],
   "source": []
  }
 ],
 "metadata": {
  "kernelspec": {
   "display_name": "Python 3",
   "language": "python",
   "name": "python3"
  },
  "language_info": {
   "codemirror_mode": {
    "name": "ipython",
    "version": 3
   },
   "file_extension": ".py",
   "mimetype": "text/x-python",
   "name": "python",
   "nbconvert_exporter": "python",
   "pygments_lexer": "ipython3",
   "version": "3.8.8"
  }
 },
 "nbformat": 4,
 "nbformat_minor": 5
}
