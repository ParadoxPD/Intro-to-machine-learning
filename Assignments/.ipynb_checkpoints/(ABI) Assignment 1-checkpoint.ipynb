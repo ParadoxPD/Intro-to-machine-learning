{
 "cells": [
  {
   "cell_type": "markdown",
   "id": "a91d4143",
   "metadata": {},
   "source": [
    "# implementing using 'r+'"
   ]
  },
  {
   "cell_type": "code",
   "execution_count": 1,
   "id": "bcc97819",
   "metadata": {},
   "outputs": [],
   "source": [
    "with open('newfile.txt',mode='w') as f:\n",
    "    f.write('Hie whatsup??')"
   ]
  },
  {
   "cell_type": "code",
   "execution_count": 2,
   "id": "bf354893",
   "metadata": {},
   "outputs": [],
   "source": [
    "with open('newfile.txt') as f:\n",
    "    data=f.read()\n",
    "    length=len(data)"
   ]
  },
  {
   "cell_type": "code",
   "execution_count": 3,
   "id": "cad182c4",
   "metadata": {},
   "outputs": [
    {
     "data": {
      "text/plain": [
       "13"
      ]
     },
     "execution_count": 3,
     "metadata": {},
     "output_type": "execute_result"
    }
   ],
   "source": [
    "length"
   ]
  },
  {
   "cell_type": "code",
   "execution_count": 4,
   "id": "6be06bf3",
   "metadata": {},
   "outputs": [],
   "source": [
    "with open('newfile.txt',mode='r+') as f:\n",
    "    f.seek(length)\n",
    "    f.write('\\nThis is Abinash here !')"
   ]
  },
  {
   "cell_type": "code",
   "execution_count": 6,
   "id": "4e2a16eb",
   "metadata": {},
   "outputs": [
    {
     "name": "stdout",
     "output_type": "stream",
     "text": [
      "Hie whatsup??\n",
      "This is Abinash here !\n"
     ]
    }
   ],
   "source": [
    "with open('newfile.txt') as f:\n",
    "    print(f.read())"
   ]
  },
  {
   "cell_type": "markdown",
   "id": "8ee0cec9",
   "metadata": {},
   "source": [
    "# implementing using 'w+'"
   ]
  },
  {
   "cell_type": "code",
   "execution_count": 7,
   "id": "d105bfff",
   "metadata": {},
   "outputs": [
    {
     "name": "stdout",
     "output_type": "stream",
     "text": [
      "Hie whatsup?? \n",
      "This is Abinash here!\n"
     ]
    }
   ],
   "source": [
    "with open('newfile.txt',mode='w+') as f:\n",
    "    f.write('Hie whatsup?? \\nThis is Abinash here!')\n",
    "    f.seek(0)\n",
    "    print(f.read())"
   ]
  },
  {
   "cell_type": "code",
   "execution_count": 11,
   "id": "6f9bd84e",
   "metadata": {},
   "outputs": [
    {
     "name": "stdout",
     "output_type": "stream",
     "text": [
      "Hie whatsup?? \n",
      "This is Priyanshu here!\n",
      "Welcome to the Introduction to Machine Learning with Python\n",
      "\n",
      "\n",
      "Hie whatsup?? \n",
      "This is Priyanshu here!\n",
      "Welcome to the Introduction to Machine Learning with Pyth\n",
      "This is Priyanshu here !\n"
     ]
    }
   ],
   "source": [
    "# implementing using 'w+'\n",
    "with open('newfile.txt',mode='w+') as f:\n",
    "    language = 'Python'\n",
    "    f.write('Hie whatsup?? \\nThis is Priyanshu here!\\n')\n",
    "    f.write(f'Welcome to the Introduction to Machine Learning with {language}')\n",
    "\n",
    "# implementing using 'r+'\n",
    "with open('newfile.txt',mode='r+') as f:\n",
    "    data=f.read()\n",
    "    print(data)\n",
    "    \n",
    "    #Go to the Last Line to append data\n",
    "    length=len(data)\n",
    "    f.seek(length)\n",
    "    f.write('\\nThis is Priyanshu here !')\n",
    "\n",
    "    \n",
    "print('\\n')\n",
    "#To check if data is appended\n",
    "with open('newfile.txt',mode='r+') as f:\n",
    "    data=f.read()\n",
    "    print(data)"
   ]
  }
 ],
 "metadata": {
  "kernelspec": {
   "display_name": "Python 3 (ipykernel)",
   "language": "python",
   "name": "python3"
  },
  "language_info": {
   "codemirror_mode": {
    "name": "ipython",
    "version": 3
   },
   "file_extension": ".py",
   "mimetype": "text/x-python",
   "name": "python",
   "nbconvert_exporter": "python",
   "pygments_lexer": "ipython3",
   "version": "3.9.1"
  }
 },
 "nbformat": 4,
 "nbformat_minor": 5
}
