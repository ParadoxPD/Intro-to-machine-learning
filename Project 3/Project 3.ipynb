{
 "cells": [
  {
   "cell_type": "code",
   "execution_count": 4,
   "id": "0ec62d6c-e3b7-45bf-80e9-c425c4f9a0a3",
   "metadata": {},
   "outputs": [
    {
     "name": "stdout",
     "output_type": "stream",
     "text": [
      "[38008.18367347]\n"
     ]
    }
   ],
   "source": [
    "# Using captia_income data set, build a regression model and predict the per capitia income for Canadian citizens in year 2021.\n",
    "\n",
    "import pandas as pd\n",
    "import numpy as np\n",
    "from sklearn.preprocessing import LabelEncoder,StandardScaler\n",
    "from sklearn.linear_model import LinearRegression\n",
    "from sklearn.model_selection import train_test_split\n",
    "\n",
    "# Import data set\n",
    "dataset=pd.read_csv('../Data/captia_income.csv')\n",
    "\n",
    "\n",
    "# To create feature matrix and dependent variable vector\n",
    "x=dataset.iloc[:,:-1].values\n",
    "y=dataset.iloc[:,-1].values\n",
    "\n",
    "# Dependent variable vector using label encoder\n",
    "le=LabelEncoder()\n",
    "y=np.array(le.fit_transform(y))\n",
    "\n",
    "# Splitting of data into training data set and testing data set\n",
    "xtrain,xtest,ytrain,ytest=train_test_split(x,y,test_size=0.2,random_state=1)  \n",
    "\n",
    "\n",
    "# Feature scaling \n",
    "sc=StandardScaler()\n",
    "xtrain[:]=sc.fit_transform(xtrain[:])\n",
    "xtest[:]=sc.fit_transform(xtest[:])\n",
    "\n",
    "# Build a multiple linear model\n",
    "regn=LinearRegression()\n",
    "regn.fit(xtrain,ytrain)\n",
    "yestimated=regn.predict(xtest)\n",
    "\n",
    "# Find the predicted per capita income for year 2021 \n",
    "predicted_val = regn.predict([[2021]])\n",
    "print(predicted_val)\n",
    "\n",
    "\n"
   ]
  },
  {
   "cell_type": "code",
   "execution_count": 34,
   "id": "2d9ed11a-25c0-4132-90e4-4696207e05b9",
   "metadata": {},
   "outputs": [
    {
     "name": "stdout",
     "output_type": "stream",
     "text": [
      "Estimated coefficients:\n",
      "b_0 = -1632210.757855453            \n",
      "b_1 = 828.4650752227082\n",
      "42117.15916964016\n"
     ]
    },
    {
     "data": {
      "image/png": "[encoded data removed]",
      "text/plain": [
       "<Figure size 432x288 with 1 Axes>"
      ]
     },
     "metadata": {
      "needs_background": "light"
     },
     "output_type": "display_data"
    }
   ],
   "source": [
    "import numpy as np\n",
    "import matplotlib.pyplot as plt\n",
    "import pandas as pd\n",
    "\n",
    "# Import data set\n",
    "dataset=pd.read_csv('../Data/captia_income.csv')\n",
    "\n",
    "\n",
    "# To create feature matrix and dependent variable vector\n",
    "x=dataset.iloc[:,:-1].values\n",
    "x =x.reshape(len(x))\n",
    "y=dataset.iloc[:,-1].values\n",
    "\n",
    "\n",
    "def estimate_coef(x, y):\n",
    "    # number of observations/points\n",
    "    n = np.size(x)\n",
    "  \n",
    "    # mean of x and y vector\n",
    "    m_x = np.mean(x)\n",
    "    m_y = np.mean(y)\n",
    "  \n",
    "    # calculating cross-deviation and deviation about x\n",
    "    SS_xy = np.sum(y*x) - n*m_y*m_x\n",
    "    SS_xx = np.sum(x*x) - n*m_x*m_x\n",
    "  \n",
    "    # calculating regression coefficients\n",
    "    b_1 = SS_xy / SS_xx\n",
    "    b_0 = m_y - b_1*m_x\n",
    "  \n",
    "    return (b_0, b_1)\n",
    "  \n",
    "def plot_regression_line(x, y, b):\n",
    "    # plotting the actual points as scatter plot\n",
    "    plt.scatter(x, y, color = \"m\",\n",
    "               marker = \"o\", s = 30)\n",
    "  \n",
    "    # predicted response vector\n",
    "    y_pred = b[0] + b[1]*x\n",
    "  \n",
    "    # plotting the regression line\n",
    "    plt.plot(x, y_pred, color = \"g\")\n",
    "  \n",
    "    # putting labels\n",
    "    plt.xlabel('x')\n",
    "    plt.ylabel('y')\n",
    "  \n",
    "    # function to show plot\n",
    "    plt.show()\n",
    "\n",
    "    \n",
    "b = estimate_coef(x, y)\n",
    "print(\"Estimated coefficients:\\nb_0 = {}  \\\n",
    "          \\nb_1 = {}\".format(b[0], b[1]))\n",
    "  \n",
    "print(b[0]+b[1]*2021)\n",
    "# plotting regression line\n",
    "plot_regression_line(x, y, b)"
   ]
  }
 ],
 "metadata": {
  "kernelspec": {
   "display_name": "Python 3 (ipykernel)",
   "language": "python",
   "name": "python3"
  },
  "language_info": {
   "codemirror_mode": {
    "name": "ipython",
    "version": 3
   },
   "file_extension": ".py",
   "mimetype": "text/x-python",
   "name": "python",
   "nbconvert_exporter": "python",
   "pygments_lexer": "ipython3",
   "version": "3.9.1"
  }
 },
 "nbformat": 4,
 "nbformat_minor": 5
}
