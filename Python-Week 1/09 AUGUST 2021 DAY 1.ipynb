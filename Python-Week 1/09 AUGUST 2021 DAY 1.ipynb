{
 "cells": [
  {
   "cell_type": "code",
   "execution_count": 6,
   "id": "5890ceaa",
   "metadata": {},
   "outputs": [
    {
     "name": "stdout",
     "output_type": "stream",
     "text": [
      "enter a no.=12\n"
     ]
    }
   ],
   "source": [
    " a=int(input(\"enter a no.=\"))"
   ]
  },
  {
   "cell_type": "code",
   "execution_count": 7,
   "id": "3d8e9da4",
   "metadata": {},
   "outputs": [
    {
     "name": "stdout",
     "output_type": "stream",
     "text": [
      "a= 12\n"
     ]
    }
   ],
   "source": [
    "print(\"a=\",a)"
   ]
  },
  {
   "cell_type": "code",
   "execution_count": 13,
   "id": "52a5f148",
   "metadata": {},
   "outputs": [],
   "source": [
    "\n",
    "B=3"
   ]
  },
  {
   "cell_type": "markdown",
   "id": "0803d113",
   "metadata": {},
   "source": [
    "print(a+B)"
   ]
  },
  {
   "cell_type": "code",
   "execution_count": 15,
   "id": "9d2b0a0b",
   "metadata": {},
   "outputs": [
    {
     "data": {
      "text/plain": [
       "int"
      ]
     },
     "execution_count": 15,
     "metadata": {},
     "output_type": "execute_result"
    }
   ],
   "source": [
    "type(a)"
   ]
  },
  {
   "cell_type": "code",
   "execution_count": 16,
   "id": "46f22c50",
   "metadata": {},
   "outputs": [
    {
     "data": {
      "text/plain": [
       "int"
      ]
     },
     "execution_count": 16,
     "metadata": {},
     "output_type": "execute_result"
    }
   ],
   "source": [
    "type(B)"
   ]
  },
  {
   "cell_type": "code",
   "execution_count": 17,
   "id": "031acc14",
   "metadata": {},
   "outputs": [],
   "source": [
    "sum=a+B"
   ]
  },
  {
   "cell_type": "code",
   "execution_count": 18,
   "id": "261fedd7",
   "metadata": {},
   "outputs": [
    {
     "name": "stdout",
     "output_type": "stream",
     "text": [
      "15\n"
     ]
    }
   ],
   "source": [
    "print(sum)"
   ]
  },
  {
   "cell_type": "code",
   "execution_count": 19,
   "id": "020b00bc",
   "metadata": {},
   "outputs": [
    {
     "name": "stdout",
     "output_type": "stream",
     "text": [
      "15\n"
     ]
    }
   ],
   "source": [
    "print(a+B)"
   ]
  },
  {
   "cell_type": "markdown",
   "id": "b043d5c9",
   "metadata": {},
   "source": [
    "%% string \n",
    "   Indexing"
   ]
  },
  {
   "cell_type": "code",
   "execution_count": 20,
   "id": "3328acd7",
   "metadata": {},
   "outputs": [],
   "source": [
    "my_name='silicon'\n"
   ]
  },
  {
   "cell_type": "code",
   "execution_count": 21,
   "id": "aca2083f",
   "metadata": {},
   "outputs": [
    {
     "data": {
      "text/plain": [
       "'silicon'"
      ]
     },
     "execution_count": 21,
     "metadata": {},
     "output_type": "execute_result"
    }
   ],
   "source": [
    "my_name"
   ]
  },
  {
   "cell_type": "code",
   "execution_count": 22,
   "id": "e104ce59",
   "metadata": {},
   "outputs": [],
   "source": [
    "#slicing\n"
   ]
  },
  {
   "cell_type": "code",
   "execution_count": 23,
   "id": "904a5ea3",
   "metadata": {},
   "outputs": [],
   "source": [
    "clg_name='silicon institute'"
   ]
  },
  {
   "cell_type": "code",
   "execution_count": 24,
   "id": "44e54fcc",
   "metadata": {},
   "outputs": [
    {
     "data": {
      "text/plain": [
       "'institute'"
      ]
     },
     "execution_count": 24,
     "metadata": {},
     "output_type": "execute_result"
    }
   ],
   "source": [
    "clg_name[8:17]"
   ]
  },
  {
   "cell_type": "code",
   "execution_count": 25,
   "id": "740453f3",
   "metadata": {},
   "outputs": [
    {
     "data": {
      "text/plain": [
       "'isiue'"
      ]
     },
     "execution_count": 25,
     "metadata": {},
     "output_type": "execute_result"
    }
   ],
   "source": [
    "clg_name[8:17:2]"
   ]
  },
  {
   "cell_type": "code",
   "execution_count": 28,
   "id": "8c30faa4",
   "metadata": {},
   "outputs": [
    {
     "data": {
      "text/plain": [
       "'etutitsni nocilis'"
      ]
     },
     "execution_count": 28,
     "metadata": {},
     "output_type": "execute_result"
    }
   ],
   "source": [
    "clg_name[-1::-1]"
   ]
  },
  {
   "cell_type": "code",
   "execution_count": 29,
   "id": "85542fa9",
   "metadata": {},
   "outputs": [
    {
     "data": {
      "text/plain": [
       "'silicon institute'"
      ]
     },
     "execution_count": 29,
     "metadata": {},
     "output_type": "execute_result"
    }
   ],
   "source": [
    "clg_name\n"
   ]
  },
  {
   "cell_type": "code",
   "execution_count": 31,
   "id": "e8f26e05",
   "metadata": {},
   "outputs": [
    {
     "name": "stdout",
     "output_type": "stream",
     "text": [
      "silicon\n",
      "instisute\n",
      "\n"
     ]
    }
   ],
   "source": [
    "print('silicon\\ninstisute\\n')"
   ]
  },
  {
   "cell_type": "code",
   "execution_count": 32,
   "id": "e157ed45",
   "metadata": {},
   "outputs": [],
   "source": [
    "#elien function or the length function"
   ]
  },
  {
   "cell_type": "code",
   "execution_count": 33,
   "id": "5c057e7b",
   "metadata": {},
   "outputs": [
    {
     "data": {
      "text/plain": [
       "7"
      ]
     },
     "execution_count": 33,
     "metadata": {},
     "output_type": "execute_result"
    }
   ],
   "source": [
    "len('silicon')"
   ]
  },
  {
   "cell_type": "markdown",
   "id": "9ffc1856",
   "metadata": {},
   "source": [
    "# string properties\n"
   ]
  },
  {
   "cell_type": "code",
   "execution_count": 35,
   "id": "cc500d46",
   "metadata": {},
   "outputs": [],
   "source": [
    "# 1) immutable\n",
    "name='ram'\n"
   ]
  },
  {
   "cell_type": "code",
   "execution_count": 36,
   "id": "21560701",
   "metadata": {},
   "outputs": [
    {
     "data": {
      "text/plain": [
       "'sam'"
      ]
     },
     "execution_count": 36,
     "metadata": {},
     "output_type": "execute_result"
    }
   ],
   "source": [
    "'s'+'ram'[1:]"
   ]
  },
  {
   "cell_type": "code",
   "execution_count": 43,
   "id": "057d2a2e",
   "metadata": {},
   "outputs": [
    {
     "name": "stdout",
     "output_type": "stream",
     "text": [
      "my name is kalinga,krishna,sahoo\n"
     ]
    }
   ],
   "source": [
    "# 2) formatting string\n",
    "\n",
    "# a)dot format\n",
    "  #Am from silicon tech,2024\n",
    "    \n",
    "print('my name is kalinga,{},{}'.format('krishna','sahoo'))\n",
    "  "
   ]
  },
  {
   "cell_type": "code",
   "execution_count": 45,
   "id": "fca3c999",
   "metadata": {},
   "outputs": [
    {
     "name": "stdout",
     "output_type": "stream",
     "text": [
      "my name is kalinga\n"
     ]
    }
   ],
   "source": [
    "#f-string\n",
    "print(f\"my name is {'kalinga'}\")"
   ]
  },
  {
   "cell_type": "code",
   "execution_count": null,
   "id": "49e3e1f7",
   "metadata": {},
   "outputs": [],
   "source": []
  }
 ],
 "metadata": {
  "kernelspec": {
   "display_name": "Python 3",
   "language": "python",
   "name": "python3"
  },
  "language_info": {
   "codemirror_mode": {
    "name": "ipython",
    "version": 3
   },
   "file_extension": ".py",
   "mimetype": "text/x-python",
   "name": "python",
   "nbconvert_exporter": "python",
   "pygments_lexer": "ipython3",
   "version": "3.8.8"
  }
 },
 "nbformat": 4,
 "nbformat_minor": 5
}
