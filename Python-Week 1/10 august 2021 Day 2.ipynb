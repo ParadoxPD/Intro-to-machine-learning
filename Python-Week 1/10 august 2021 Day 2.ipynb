{
 "cells": [
  {
   "cell_type": "code",
   "execution_count": 1,
   "id": "fd44e03d",
   "metadata": {},
   "outputs": [
    {
     "data": {
      "text/plain": [
       "'tttttttttt'"
      ]
     },
     "execution_count": 1,
     "metadata": {},
     "output_type": "execute_result"
    }
   ],
   "source": [
    "10*'t'"
   ]
  },
  {
   "cell_type": "code",
   "execution_count": 2,
   "id": "e83fe3a3",
   "metadata": {},
   "outputs": [],
   "source": [
    "X='silicon'"
   ]
  },
  {
   "cell_type": "code",
   "execution_count": 3,
   "id": "cac7c366",
   "metadata": {},
   "outputs": [
    {
     "data": {
      "text/plain": [
       "str"
      ]
     },
     "execution_count": 3,
     "metadata": {},
     "output_type": "execute_result"
    }
   ],
   "source": [
    "type(X)"
   ]
  },
  {
   "cell_type": "code",
   "execution_count": 7,
   "id": "d7d7d6a0",
   "metadata": {},
   "outputs": [
    {
     "data": {
      "text/plain": [
       "'silicon'"
      ]
     },
     "execution_count": 7,
     "metadata": {},
     "output_type": "execute_result"
    }
   ],
   "source": [
    "X.lower()"
   ]
  },
  {
   "cell_type": "code",
   "execution_count": 5,
   "id": "009245b7",
   "metadata": {},
   "outputs": [
    {
     "data": {
      "text/plain": [
       "'SILICON'"
      ]
     },
     "execution_count": 5,
     "metadata": {},
     "output_type": "execute_result"
    }
   ],
   "source": [
    "X.upper()"
   ]
  },
  {
   "cell_type": "code",
   "execution_count": 8,
   "id": "6388d8b4",
   "metadata": {},
   "outputs": [
    {
     "data": {
      "text/plain": [
       "'Silicon'"
      ]
     },
     "execution_count": 8,
     "metadata": {},
     "output_type": "execute_result"
    }
   ],
   "source": [
    "X.capitalize()"
   ]
  },
  {
   "cell_type": "code",
   "execution_count": 11,
   "id": "2cd31cf5",
   "metadata": {},
   "outputs": [],
   "source": [
    "y='tech institute'"
   ]
  },
  {
   "cell_type": "code",
   "execution_count": 12,
   "id": "c20ecd62",
   "metadata": {},
   "outputs": [
    {
     "data": {
      "text/plain": [
       "['tech', 'institute']"
      ]
     },
     "execution_count": 12,
     "metadata": {},
     "output_type": "execute_result"
    }
   ],
   "source": [
    "y.split()"
   ]
  },
  {
   "cell_type": "code",
   "execution_count": 15,
   "id": "e68cd688",
   "metadata": {},
   "outputs": [
    {
     "data": {
      "text/plain": [
       "['s', 'l', 'con']"
      ]
     },
     "execution_count": 15,
     "metadata": {},
     "output_type": "execute_result"
    }
   ],
   "source": [
    "X.split('i')"
   ]
  },
  {
   "cell_type": "markdown",
   "id": "20ca64ea",
   "metadata": {},
   "source": [
    "# list"
   ]
  },
  {
   "cell_type": "code",
   "execution_count": 16,
   "id": "5bd200f0",
   "metadata": {},
   "outputs": [],
   "source": [
    "my_list=['silicon',2004,8.01]"
   ]
  },
  {
   "cell_type": "code",
   "execution_count": 17,
   "id": "1da76954",
   "metadata": {},
   "outputs": [
    {
     "data": {
      "text/plain": [
       "list"
      ]
     },
     "execution_count": 17,
     "metadata": {},
     "output_type": "execute_result"
    }
   ],
   "source": [
    "type(my_list)"
   ]
  },
  {
   "cell_type": "markdown",
   "id": "1469ca2f",
   "metadata": {},
   "source": [
    "# list support indexing and slicing "
   ]
  },
  {
   "cell_type": "code",
   "execution_count": 18,
   "id": "77a53b96",
   "metadata": {},
   "outputs": [
    {
     "data": {
      "text/plain": [
       "'silicon'"
      ]
     },
     "execution_count": 18,
     "metadata": {},
     "output_type": "execute_result"
    }
   ],
   "source": [
    "my_list[0]"
   ]
  },
  {
   "cell_type": "code",
   "execution_count": 19,
   "id": "5c25c0d3",
   "metadata": {},
   "outputs": [
    {
     "data": {
      "text/plain": [
       "['silicon', 2004]"
      ]
     },
     "execution_count": 19,
     "metadata": {},
     "output_type": "execute_result"
    }
   ],
   "source": [
    "my_list[0:2]"
   ]
  },
  {
   "cell_type": "markdown",
   "id": "0e8a25bb",
   "metadata": {},
   "source": [
    "# list properties"
   ]
  },
  {
   "cell_type": "markdown",
   "id": "4c5bb335",
   "metadata": {},
   "source": [
    "# list are mutable\n"
   ]
  },
  {
   "cell_type": "code",
   "execution_count": 20,
   "id": "1fd829ff",
   "metadata": {},
   "outputs": [],
   "source": [
    "my_list[0]='bhubaneswar'"
   ]
  },
  {
   "cell_type": "code",
   "execution_count": 21,
   "id": "f653fb7f",
   "metadata": {},
   "outputs": [
    {
     "data": {
      "text/plain": [
       "['bhubaneswar', 2004, 8.01]"
      ]
     },
     "execution_count": 21,
     "metadata": {},
     "output_type": "execute_result"
    }
   ],
   "source": [
    "my_list"
   ]
  },
  {
   "cell_type": "code",
   "execution_count": 23,
   "id": "b69d0699",
   "metadata": {},
   "outputs": [],
   "source": [
    "my_list.append('Odisha')"
   ]
  },
  {
   "cell_type": "code",
   "execution_count": 24,
   "id": "53167357",
   "metadata": {},
   "outputs": [
    {
     "data": {
      "text/plain": [
       "['bhubaneswar', 2004, 8.01, 'odisha', 'Odisha']"
      ]
     },
     "execution_count": 24,
     "metadata": {},
     "output_type": "execute_result"
    }
   ],
   "source": [
    "my_list"
   ]
  },
  {
   "cell_type": "code",
   "execution_count": 26,
   "id": "b8f069ee",
   "metadata": {},
   "outputs": [
    {
     "data": {
      "text/plain": [
       "'odisha'"
      ]
     },
     "execution_count": 26,
     "metadata": {},
     "output_type": "execute_result"
    }
   ],
   "source": [
    "my_list.pop(3)"
   ]
  },
  {
   "cell_type": "code",
   "execution_count": 27,
   "id": "36cd183e",
   "metadata": {},
   "outputs": [
    {
     "data": {
      "text/plain": [
       "['bhubaneswar', 2004, 8.01, 'Odisha']"
      ]
     },
     "execution_count": 27,
     "metadata": {},
     "output_type": "execute_result"
    }
   ],
   "source": [
    "my_list"
   ]
  },
  {
   "cell_type": "code",
   "execution_count": 28,
   "id": "ed585b55",
   "metadata": {},
   "outputs": [],
   "source": [
    "my_list=['e','a','r','t','y']    "
   ]
  },
  {
   "cell_type": "code",
   "execution_count": 30,
   "id": "1561c95a",
   "metadata": {},
   "outputs": [],
   "source": [
    "my_list.sort()"
   ]
  },
  {
   "cell_type": "code",
   "execution_count": 31,
   "id": "3173260a",
   "metadata": {},
   "outputs": [
    {
     "data": {
      "text/plain": [
       "['a', 'e', 'r', 't', 'y']"
      ]
     },
     "execution_count": 31,
     "metadata": {},
     "output_type": "execute_result"
    }
   ],
   "source": [
    "my_list"
   ]
  },
  {
   "cell_type": "code",
   "execution_count": 32,
   "id": "a9a865cd",
   "metadata": {},
   "outputs": [],
   "source": [
    "my_list.reverse()"
   ]
  },
  {
   "cell_type": "code",
   "execution_count": 33,
   "id": "c8605bca",
   "metadata": {},
   "outputs": [
    {
     "data": {
      "text/plain": [
       "['y', 't', 'r', 'e', 'a']"
      ]
     },
     "execution_count": 33,
     "metadata": {},
     "output_type": "execute_result"
    }
   ],
   "source": [
    "my_list"
   ]
  },
  {
   "cell_type": "code",
   "execution_count": 36,
   "id": "a4d8a5cb",
   "metadata": {},
   "outputs": [],
   "source": [
    "my_list.insert(0,'k')"
   ]
  },
  {
   "cell_type": "code",
   "execution_count": 37,
   "id": "ad196265",
   "metadata": {},
   "outputs": [
    {
     "data": {
      "text/plain": [
       "['k', 'y', 't', 'r', 'e', 'a']"
      ]
     },
     "execution_count": 37,
     "metadata": {},
     "output_type": "execute_result"
    }
   ],
   "source": [
    "my_list"
   ]
  },
  {
   "cell_type": "markdown",
   "id": "3de1e3d5",
   "metadata": {},
   "source": [
    "# Q) define a list my_list2=['a','g',['w',2]].objective is to extract 2\n"
   ]
  },
  {
   "cell_type": "code",
   "execution_count": 43,
   "id": "52e4bc61",
   "metadata": {},
   "outputs": [],
   "source": [
    "my_list2=['a','g',['w',2]]"
   ]
  },
  {
   "cell_type": "code",
   "execution_count": 44,
   "id": "5880e651",
   "metadata": {},
   "outputs": [
    {
     "data": {
      "text/plain": [
       "['w', 2]"
      ]
     },
     "execution_count": 44,
     "metadata": {},
     "output_type": "execute_result"
    }
   ],
   "source": [
    "my_list2[2]"
   ]
  },
  {
   "cell_type": "code",
   "execution_count": 45,
   "id": "a2ab7798",
   "metadata": {},
   "outputs": [
    {
     "data": {
      "text/plain": [
       "2"
      ]
     },
     "execution_count": 45,
     "metadata": {},
     "output_type": "execute_result"
    }
   ],
   "source": [
    "my_list2[2][1]"
   ]
  },
  {
   "cell_type": "markdown",
   "id": "1433562a",
   "metadata": {},
   "source": [
    "# dictionary\n"
   ]
  },
  {
   "cell_type": "code",
   "execution_count": 46,
   "id": "af3ddd32",
   "metadata": {},
   "outputs": [],
   "source": [
    "my_dict={'breakfast':30,'lunch':50,'dinner':40}"
   ]
  },
  {
   "cell_type": "code",
   "execution_count": 47,
   "id": "30f1e54d",
   "metadata": {},
   "outputs": [
    {
     "data": {
      "text/plain": [
       "dict"
      ]
     },
     "execution_count": 47,
     "metadata": {},
     "output_type": "execute_result"
    }
   ],
   "source": [
    "type(my_dict)"
   ]
  },
  {
   "cell_type": "code",
   "execution_count": 48,
   "id": "b02bdd3d",
   "metadata": {},
   "outputs": [
    {
     "data": {
      "text/plain": [
       "40"
      ]
     },
     "execution_count": 48,
     "metadata": {},
     "output_type": "execute_result"
    }
   ],
   "source": [
    "my_dict['dinner']"
   ]
  },
  {
   "cell_type": "code",
   "execution_count": 51,
   "id": "dda97839",
   "metadata": {},
   "outputs": [
    {
     "data": {
      "text/plain": [
       "dict_keys(['breakfast', 'lunch', 'dinner'])"
      ]
     },
     "execution_count": 51,
     "metadata": {},
     "output_type": "execute_result"
    }
   ],
   "source": [
    "my_dict.keys()"
   ]
  },
  {
   "cell_type": "code",
   "execution_count": 52,
   "id": "7827e293",
   "metadata": {},
   "outputs": [
    {
     "data": {
      "text/plain": [
       "dict_values([30, 50, 40])"
      ]
     },
     "execution_count": 52,
     "metadata": {},
     "output_type": "execute_result"
    }
   ],
   "source": [
    "my_dict.values()"
   ]
  },
  {
   "cell_type": "code",
   "execution_count": 54,
   "id": "936cf9dd",
   "metadata": {},
   "outputs": [
    {
     "data": {
      "text/plain": [
       "dict_items([('breakfast', 30), ('lunch', 50), ('dinner', 40)])"
      ]
     },
     "execution_count": 54,
     "metadata": {},
     "output_type": "execute_result"
    }
   ],
   "source": [
    "my_dict.items()"
   ]
  },
  {
   "cell_type": "code",
   "execution_count": 57,
   "id": "ed7aa0dc",
   "metadata": {},
   "outputs": [],
   "source": [
    "mylist3=['silicon',{'breakfast':30,'lunch':40,'dinner':50}]"
   ]
  },
  {
   "cell_type": "code",
   "execution_count": 58,
   "id": "57a8a951",
   "metadata": {},
   "outputs": [
    {
     "data": {
      "text/plain": [
       "['silicon', {'breakfast': 30, 'lunch': 40, 'dinner': 50}]"
      ]
     },
     "execution_count": 58,
     "metadata": {},
     "output_type": "execute_result"
    }
   ],
   "source": [
    "mylist3"
   ]
  },
  {
   "cell_type": "code",
   "execution_count": 59,
   "id": "7b745ef0",
   "metadata": {},
   "outputs": [
    {
     "data": {
      "text/plain": [
       "{'breakfast': 30, 'lunch': 40, 'dinner': 50}"
      ]
     },
     "execution_count": 59,
     "metadata": {},
     "output_type": "execute_result"
    }
   ],
   "source": [
    "mylist3[1]"
   ]
  },
  {
   "cell_type": "code",
   "execution_count": 61,
   "id": "8fa0ecd8",
   "metadata": {},
   "outputs": [
    {
     "data": {
      "text/plain": [
       "30"
      ]
     },
     "execution_count": 61,
     "metadata": {},
     "output_type": "execute_result"
    }
   ],
   "source": [
    "mylist3[1]['breakfast']"
   ]
  },
  {
   "cell_type": "markdown",
   "id": "976f15af",
   "metadata": {},
   "source": [
    "# define a dict D={'k1:'silicon',2003],'k2':30}.now objective is to grab 'silicon and make it capital\n"
   ]
  },
  {
   "cell_type": "code",
   "execution_count": 64,
   "id": "af4bac22",
   "metadata": {},
   "outputs": [],
   "source": [
    "D={'k1':['silicon',2003],'k2':30}"
   ]
  },
  {
   "cell_type": "code",
   "execution_count": 68,
   "id": "dd9db5c9",
   "metadata": {},
   "outputs": [
    {
     "data": {
      "text/plain": [
       "['silicon', 2003]"
      ]
     },
     "execution_count": 68,
     "metadata": {},
     "output_type": "execute_result"
    }
   ],
   "source": [
    "D['k1']"
   ]
  },
  {
   "cell_type": "code",
   "execution_count": 69,
   "id": "82cbe0d7",
   "metadata": {},
   "outputs": [
    {
     "data": {
      "text/plain": [
       "'silicon'"
      ]
     },
     "execution_count": 69,
     "metadata": {},
     "output_type": "execute_result"
    }
   ],
   "source": [
    "D['k1'][0]"
   ]
  },
  {
   "cell_type": "code",
   "execution_count": null,
   "id": "1b4a2c40",
   "metadata": {},
   "outputs": [],
   "source": []
  }
 ],
 "metadata": {
  "kernelspec": {
   "display_name": "Python 3",
   "language": "python",
   "name": "python3"
  },
  "language_info": {
   "codemirror_mode": {
    "name": "ipython",
    "version": 3
   },
   "file_extension": ".py",
   "mimetype": "text/x-python",
   "name": "python",
   "nbconvert_exporter": "python",
   "pygments_lexer": "ipython3",
   "version": "3.8.8"
  }
 },
 "nbformat": 4,
 "nbformat_minor": 5
}
