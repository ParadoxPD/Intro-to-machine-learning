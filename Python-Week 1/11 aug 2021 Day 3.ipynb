{
 "cells": [
  {
   "cell_type": "markdown",
   "id": "16fab367",
   "metadata": {},
   "source": [
    "# tuple "
   ]
  },
  {
   "cell_type": "code",
   "execution_count": 1,
   "id": "5651f807",
   "metadata": {},
   "outputs": [],
   "source": [
    "my_tuple=(1,2,3,5,7,8,9,0)"
   ]
  },
  {
   "cell_type": "code",
   "execution_count": 4,
   "id": "bc07bf8c",
   "metadata": {},
   "outputs": [
    {
     "data": {
      "text/plain": [
       "1"
      ]
     },
     "execution_count": 4,
     "metadata": {},
     "output_type": "execute_result"
    }
   ],
   "source": [
    "my_tuple.count(3)"
   ]
  },
  {
   "cell_type": "code",
   "execution_count": 5,
   "id": "357220f4",
   "metadata": {},
   "outputs": [
    {
     "data": {
      "text/plain": [
       "2"
      ]
     },
     "execution_count": 5,
     "metadata": {},
     "output_type": "execute_result"
    }
   ],
   "source": [
    "my_tuple.index(3)"
   ]
  },
  {
   "cell_type": "markdown",
   "id": "11da9a8a",
   "metadata": {},
   "source": [
    "# dictionaries are mutable "
   ]
  },
  {
   "cell_type": "code",
   "execution_count": 7,
   "id": "30bc92d1",
   "metadata": {},
   "outputs": [],
   "source": [
    "D={'k1':100,'k2':200}"
   ]
  },
  {
   "cell_type": "code",
   "execution_count": 8,
   "id": "92bb280e",
   "metadata": {},
   "outputs": [
    {
     "data": {
      "text/plain": [
       "100"
      ]
     },
     "execution_count": 8,
     "metadata": {},
     "output_type": "execute_result"
    }
   ],
   "source": [
    "D['k1']"
   ]
  },
  {
   "cell_type": "code",
   "execution_count": 9,
   "id": "dcc83c4c",
   "metadata": {},
   "outputs": [
    {
     "data": {
      "text/plain": [
       "dict_items([('k1', 100), ('k2', 200)])"
      ]
     },
     "execution_count": 9,
     "metadata": {},
     "output_type": "execute_result"
    }
   ],
   "source": [
    "D.items()"
   ]
  },
  {
   "cell_type": "code",
   "execution_count": 10,
   "id": "f044cd9a",
   "metadata": {},
   "outputs": [],
   "source": [
    "D['k3']=500"
   ]
  },
  {
   "cell_type": "code",
   "execution_count": 11,
   "id": "68a3080e",
   "metadata": {},
   "outputs": [
    {
     "data": {
      "text/plain": [
       "dict_items([('k1', 100), ('k2', 200), ('k3', 500)])"
      ]
     },
     "execution_count": 11,
     "metadata": {},
     "output_type": "execute_result"
    }
   ],
   "source": [
    "D.items()"
   ]
  },
  {
   "cell_type": "markdown",
   "id": "3c87741c",
   "metadata": {},
   "source": [
    "# tuple\n"
   ]
  },
  {
   "cell_type": "code",
   "execution_count": 12,
   "id": "9abc8f83",
   "metadata": {},
   "outputs": [],
   "source": [
    "my_tuple=(1,2,3,46,7,8)"
   ]
  },
  {
   "cell_type": "code",
   "execution_count": 13,
   "id": "bbcf8d7a",
   "metadata": {},
   "outputs": [
    {
     "data": {
      "text/plain": [
       "3"
      ]
     },
     "execution_count": 13,
     "metadata": {},
     "output_type": "execute_result"
    }
   ],
   "source": [
    "my_tuple.index(46)"
   ]
  },
  {
   "cell_type": "code",
   "execution_count": 14,
   "id": "67a6b79c",
   "metadata": {},
   "outputs": [
    {
     "data": {
      "text/plain": [
       "1"
      ]
     },
     "execution_count": 14,
     "metadata": {},
     "output_type": "execute_result"
    }
   ],
   "source": [
    "my_tuple.count(3)"
   ]
  },
  {
   "cell_type": "code",
   "execution_count": 15,
   "id": "b001b1e0",
   "metadata": {},
   "outputs": [
    {
     "data": {
      "text/plain": [
       "(2, 3, 46, 7, 8)"
      ]
     },
     "execution_count": 15,
     "metadata": {},
     "output_type": "execute_result"
    }
   ],
   "source": [
    "my_tuple[1:]"
   ]
  },
  {
   "cell_type": "code",
   "execution_count": 16,
   "id": "00666737",
   "metadata": {},
   "outputs": [],
   "source": [
    "t=('s','i','l','i','c','o','n')"
   ]
  },
  {
   "cell_type": "code",
   "execution_count": 18,
   "id": "f68f485b",
   "metadata": {},
   "outputs": [
    {
     "data": {
      "text/plain": [
       "1"
      ]
     },
     "execution_count": 18,
     "metadata": {},
     "output_type": "execute_result"
    }
   ],
   "source": [
    "t.count('l')"
   ]
  },
  {
   "cell_type": "code",
   "execution_count": 19,
   "id": "a1a2343b",
   "metadata": {},
   "outputs": [
    {
     "data": {
      "text/plain": [
       "2"
      ]
     },
     "execution_count": 19,
     "metadata": {},
     "output_type": "execute_result"
    }
   ],
   "source": [
    "t.index('l')"
   ]
  },
  {
   "cell_type": "markdown",
   "id": "48cc1094",
   "metadata": {},
   "source": [
    "# tuples are immutable"
   ]
  },
  {
   "cell_type": "code",
   "execution_count": 20,
   "id": "47d244f5",
   "metadata": {},
   "outputs": [
    {
     "data": {
      "text/plain": [
       "('s', 'i', 'l', 'i', 'c', 'o', 'n')"
      ]
     },
     "execution_count": 20,
     "metadata": {},
     "output_type": "execute_result"
    }
   ],
   "source": [
    "t"
   ]
  },
  {
   "cell_type": "code",
   "execution_count": 21,
   "id": "6add0e18",
   "metadata": {},
   "outputs": [
    {
     "ename": "TypeError",
     "evalue": "'tuple' object does not support item assignment",
     "output_type": "error",
     "traceback": [
      "\u001b[1;31m---------------------------------------------------------------------------\u001b[0m",
      "\u001b[1;31mTypeError\u001b[0m                                 Traceback (most recent call last)",
      "\u001b[1;32m<ipython-input-21-afb86a7fcf77>\u001b[0m in \u001b[0;36m<module>\u001b[1;34m\u001b[0m\n\u001b[1;32m----> 1\u001b[1;33m \u001b[0mt\u001b[0m\u001b[1;33m[\u001b[0m\u001b[1;36m4\u001b[0m\u001b[1;33m]\u001b[0m\u001b[1;33m=\u001b[0m\u001b[1;34m'l'\u001b[0m\u001b[1;33m\u001b[0m\u001b[1;33m\u001b[0m\u001b[0m\n\u001b[0m",
      "\u001b[1;31mTypeError\u001b[0m: 'tuple' object does not support item assignment"
     ]
    }
   ],
   "source": [
    "t[4]='l'"
   ]
  },
  {
   "cell_type": "markdown",
   "id": "58aa9145",
   "metadata": {},
   "source": [
    "# sets"
   ]
  },
  {
   "cell_type": "code",
   "execution_count": 22,
   "id": "34b5928d",
   "metadata": {},
   "outputs": [],
   "source": [
    "a=set()"
   ]
  },
  {
   "cell_type": "code",
   "execution_count": 23,
   "id": "8b4400e2",
   "metadata": {},
   "outputs": [
    {
     "data": {
      "text/plain": [
       "set()"
      ]
     },
     "execution_count": 23,
     "metadata": {},
     "output_type": "execute_result"
    }
   ],
   "source": [
    "a"
   ]
  },
  {
   "cell_type": "code",
   "execution_count": 24,
   "id": "fff1775a",
   "metadata": {},
   "outputs": [
    {
     "data": {
      "text/plain": [
       "set"
      ]
     },
     "execution_count": 24,
     "metadata": {},
     "output_type": "execute_result"
    }
   ],
   "source": [
    "type(a)"
   ]
  },
  {
   "cell_type": "code",
   "execution_count": 25,
   "id": "4da16cd4",
   "metadata": {},
   "outputs": [],
   "source": [
    "a.add(1)"
   ]
  },
  {
   "cell_type": "code",
   "execution_count": 26,
   "id": "eabe7a81",
   "metadata": {},
   "outputs": [],
   "source": [
    "a.add(4)"
   ]
  },
  {
   "cell_type": "code",
   "execution_count": 27,
   "id": "4a5b9a77",
   "metadata": {},
   "outputs": [
    {
     "data": {
      "text/plain": [
       "{1, 4}"
      ]
     },
     "execution_count": 27,
     "metadata": {},
     "output_type": "execute_result"
    }
   ],
   "source": [
    "a"
   ]
  },
  {
   "cell_type": "code",
   "execution_count": 28,
   "id": "640a6f8f",
   "metadata": {},
   "outputs": [],
   "source": [
    "b={3,5,7,9}"
   ]
  },
  {
   "cell_type": "code",
   "execution_count": 29,
   "id": "ece5f3ae",
   "metadata": {},
   "outputs": [
    {
     "data": {
      "text/plain": [
       "set"
      ]
     },
     "execution_count": 29,
     "metadata": {},
     "output_type": "execute_result"
    }
   ],
   "source": [
    "type(b)"
   ]
  },
  {
   "cell_type": "markdown",
   "id": "4ca708c5",
   "metadata": {},
   "source": [
    "# write an expression that would turn the string 'engineering' into set of unique letters"
   ]
  },
  {
   "cell_type": "code",
   "execution_count": 30,
   "id": "4bc40b78",
   "metadata": {},
   "outputs": [],
   "source": [
    "s={'e','n','g','i','n','e','e','r','i','n','g'}"
   ]
  },
  {
   "cell_type": "code",
   "execution_count": 31,
   "id": "05fef7a0",
   "metadata": {},
   "outputs": [],
   "source": [
    "a=set(s)"
   ]
  },
  {
   "cell_type": "code",
   "execution_count": 32,
   "id": "f2eba69c",
   "metadata": {},
   "outputs": [
    {
     "data": {
      "text/plain": [
       "{'e', 'g', 'i', 'n', 'r'}"
      ]
     },
     "execution_count": 32,
     "metadata": {},
     "output_type": "execute_result"
    }
   ],
   "source": [
    "a"
   ]
  },
  {
   "cell_type": "markdown",
   "id": "745f25ec",
   "metadata": {},
   "source": [
    "# boolean|"
   ]
  },
  {
   "cell_type": "code",
   "execution_count": 33,
   "id": "254e1fd0",
   "metadata": {},
   "outputs": [
    {
     "data": {
      "text/plain": [
       "False"
      ]
     },
     "execution_count": 33,
     "metadata": {},
     "output_type": "execute_result"
    }
   ],
   "source": [
    "'kalinga'=='Kalinga'"
   ]
  },
  {
   "cell_type": "code",
   "execution_count": 34,
   "id": "bb43887f",
   "metadata": {},
   "outputs": [
    {
     "data": {
      "text/plain": [
       "True"
      ]
     },
     "execution_count": 34,
     "metadata": {},
     "output_type": "execute_result"
    }
   ],
   "source": [
    "2!=3"
   ]
  },
  {
   "cell_type": "markdown",
   "id": "2ab62f2e",
   "metadata": {},
   "source": [
    "# gow to perform basic i/o operation with basic.txt file "
   ]
  },
  {
   "cell_type": "markdown",
   "id": "34e4237f",
   "metadata": {},
   "source": [
    "# writing a .txt file\n"
   ]
  },
  {
   "cell_type": "code",
   "execution_count": 36,
   "id": "959a5980",
   "metadata": {},
   "outputs": [
    {
     "name": "stdout",
     "output_type": "stream",
     "text": [
      "Overwriting kalinga.txt\n"
     ]
    }
   ],
   "source": [
    "%%writefile kalinga.txt\n",
    "hello! kalinga here \n",
    "schooling AECS\n",
    "btech silicon\n",
    "age ka nhi pata "
   ]
  },
  {
   "cell_type": "code",
   "execution_count": 37,
   "id": "dab81938",
   "metadata": {},
   "outputs": [
    {
     "data": {
      "text/plain": [
       "'C:\\\\Users\\\\KalingaKrishna Sahoo\\\\ML stuffs'"
      ]
     },
     "execution_count": 37,
     "metadata": {},
     "output_type": "execute_result"
    }
   ],
   "source": [
    "pwd"
   ]
  },
  {
   "cell_type": "code",
   "execution_count": 38,
   "id": "a2ea2754",
   "metadata": {},
   "outputs": [],
   "source": [
    "myfile=open('kalinga.txt')"
   ]
  },
  {
   "cell_type": "code",
   "execution_count": 39,
   "id": "e95d0ede",
   "metadata": {},
   "outputs": [
    {
     "data": {
      "text/plain": [
       "'hello! kalinga here \\nschooling AECS\\nbtech silicon\\nage ka nhi pata \\n'"
      ]
     },
     "execution_count": 39,
     "metadata": {},
     "output_type": "execute_result"
    }
   ],
   "source": [
    "myfile.read()"
   ]
  },
  {
   "cell_type": "code",
   "execution_count": 40,
   "id": "179c448d",
   "metadata": {},
   "outputs": [
    {
     "data": {
      "text/plain": [
       "''"
      ]
     },
     "execution_count": 40,
     "metadata": {},
     "output_type": "execute_result"
    }
   ],
   "source": [
    "myfile.read()"
   ]
  },
  {
   "cell_type": "code",
   "execution_count": 42,
   "id": "dacb2f58",
   "metadata": {},
   "outputs": [
    {
     "data": {
      "text/plain": [
       "0"
      ]
     },
     "execution_count": 42,
     "metadata": {},
     "output_type": "execute_result"
    }
   ],
   "source": [
    "myfile.seek(0)"
   ]
  },
  {
   "cell_type": "code",
   "execution_count": 43,
   "id": "18a42d54",
   "metadata": {},
   "outputs": [
    {
     "data": {
      "text/plain": [
       "'hello! kalinga here \\nschooling AECS\\nbtech silicon\\nage ka nhi pata \\n'"
      ]
     },
     "execution_count": 43,
     "metadata": {},
     "output_type": "execute_result"
    }
   ],
   "source": [
    "myfile.read()"
   ]
  },
  {
   "cell_type": "code",
   "execution_count": 44,
   "id": "bbb01df1",
   "metadata": {},
   "outputs": [
    {
     "data": {
      "text/plain": [
       "2"
      ]
     },
     "execution_count": 44,
     "metadata": {},
     "output_type": "execute_result"
    }
   ],
   "source": [
    "myfile.seek(2)"
   ]
  },
  {
   "cell_type": "code",
   "execution_count": 45,
   "id": "e7e525a0",
   "metadata": {},
   "outputs": [
    {
     "data": {
      "text/plain": [
       "'llo! kalinga here \\nschooling AECS\\nbtech silicon\\nage ka nhi pata \\n'"
      ]
     },
     "execution_count": 45,
     "metadata": {},
     "output_type": "execute_result"
    }
   ],
   "source": [
    "myfile.read()"
   ]
  },
  {
   "cell_type": "code",
   "execution_count": 46,
   "id": "4638dc38",
   "metadata": {},
   "outputs": [
    {
     "data": {
      "text/plain": [
       "'hello! kalinga here \\nschooling AECS\\nbtech silicon\\nage ka nhi pata \\n'"
      ]
     },
     "execution_count": 46,
     "metadata": {},
     "output_type": "execute_result"
    }
   ],
   "source": [
    "open('kalinga.txt').read()"
   ]
  },
  {
   "cell_type": "code",
   "execution_count": 47,
   "id": "2385b2c0",
   "metadata": {},
   "outputs": [
    {
     "data": {
      "text/plain": [
       "'hello! kalinga here \\nschooling AECS\\nbtech silicon\\nage ka nhi pata \\n'"
      ]
     },
     "execution_count": 47,
     "metadata": {},
     "output_type": "execute_result"
    }
   ],
   "source": [
    "open('kalinga.txt').read()"
   ]
  },
  {
   "cell_type": "code",
   "execution_count": 48,
   "id": "9f38b1aa",
   "metadata": {},
   "outputs": [],
   "source": [
    "mystring=open('kalinga.txt')"
   ]
  },
  {
   "cell_type": "code",
   "execution_count": 49,
   "id": "02056fd6",
   "metadata": {},
   "outputs": [
    {
     "data": {
      "text/plain": [
       "['hello! kalinga here \\n',\n",
       " 'schooling AECS\\n',\n",
       " 'btech silicon\\n',\n",
       " 'age ka nhi pata \\n']"
      ]
     },
     "execution_count": 49,
     "metadata": {},
     "output_type": "execute_result"
    }
   ],
   "source": [
    "mystring.readlines()"
   ]
  },
  {
   "cell_type": "code",
   "execution_count": 50,
   "id": "bf5f0d02",
   "metadata": {},
   "outputs": [
    {
     "data": {
      "text/plain": [
       "''"
      ]
     },
     "execution_count": 50,
     "metadata": {},
     "output_type": "execute_result"
    }
   ],
   "source": [
    "mystring.readline()"
   ]
  },
  {
   "cell_type": "code",
   "execution_count": 51,
   "id": "d479a54e",
   "metadata": {},
   "outputs": [
    {
     "data": {
      "text/plain": [
       "0"
      ]
     },
     "execution_count": 51,
     "metadata": {},
     "output_type": "execute_result"
    }
   ],
   "source": [
    "mystring.seek(0)"
   ]
  },
  {
   "cell_type": "code",
   "execution_count": 52,
   "id": "ec9e36eb",
   "metadata": {},
   "outputs": [
    {
     "data": {
      "text/plain": [
       "'hello! kalinga here \\n'"
      ]
     },
     "execution_count": 52,
     "metadata": {},
     "output_type": "execute_result"
    }
   ],
   "source": [
    "mystring.readline()"
   ]
  },
  {
   "cell_type": "code",
   "execution_count": 63,
   "id": "cab35d15",
   "metadata": {},
   "outputs": [],
   "source": [
    "with open('kalinga.txt')as my_newfile:\n",
    "    x=my_newfile.read()\n",
    "    \n"
   ]
  },
  {
   "cell_type": "code",
   "execution_count": 64,
   "id": "85e2541c",
   "metadata": {},
   "outputs": [
    {
     "data": {
      "text/plain": [
       "'hello! kalinga here \\nschooling AECS\\nbtech silicon\\nage ka nhi pata \\n'"
      ]
     },
     "execution_count": 64,
     "metadata": {},
     "output_type": "execute_result"
    }
   ],
   "source": [
    "x"
   ]
  },
  {
   "cell_type": "code",
   "execution_count": 65,
   "id": "1264a198",
   "metadata": {},
   "outputs": [
    {
     "ename": "ValueError",
     "evalue": "I/O operation on closed file.",
     "output_type": "error",
     "traceback": [
      "\u001b[1;31m---------------------------------------------------------------------------\u001b[0m",
      "\u001b[1;31mValueError\u001b[0m                                Traceback (most recent call last)",
      "\u001b[1;32m<ipython-input-65-12e5eeedb49d>\u001b[0m in \u001b[0;36m<module>\u001b[1;34m\u001b[0m\n\u001b[1;32m----> 1\u001b[1;33m \u001b[0mmy_newfile\u001b[0m\u001b[1;33m.\u001b[0m\u001b[0mread\u001b[0m\u001b[1;33m(\u001b[0m\u001b[1;33m)\u001b[0m\u001b[1;33m\u001b[0m\u001b[1;33m\u001b[0m\u001b[0m\n\u001b[0m",
      "\u001b[1;31mValueError\u001b[0m: I/O operation on closed file."
     ]
    }
   ],
   "source": [
    "my_newfile.read()            "
   ]
  },
  {
   "cell_type": "code",
   "execution_count": 66,
   "id": "212ea190",
   "metadata": {},
   "outputs": [
    {
     "name": "stdout",
     "output_type": "stream",
     "text": [
      "Writing krishna.txt\n"
     ]
    }
   ],
   "source": [
    "%%writefile krishna.txt\n",
    "hello! \n",
    "siliconites"
   ]
  },
  {
   "cell_type": "code",
   "execution_count": 67,
   "id": "03f24610",
   "metadata": {},
   "outputs": [
    {
     "data": {
      "text/plain": [
       "'C:\\\\Users\\\\KalingaKrishna Sahoo\\\\ML stuffs'"
      ]
     },
     "execution_count": 67,
     "metadata": {},
     "output_type": "execute_result"
    }
   ],
   "source": [
    "pwd"
   ]
  },
  {
   "cell_type": "code",
   "execution_count": 68,
   "id": "14e51320",
   "metadata": {},
   "outputs": [],
   "source": [
    "with open('krishna.txt')as mytext:\n",
    "    x=mytext.read()"
   ]
  },
  {
   "cell_type": "code",
   "execution_count": 69,
   "id": "5a655506",
   "metadata": {},
   "outputs": [
    {
     "data": {
      "text/plain": [
       "'hello! \\nsiliconites\\n'"
      ]
     },
     "execution_count": 69,
     "metadata": {},
     "output_type": "execute_result"
    }
   ],
   "source": [
    "x"
   ]
  },
  {
   "cell_type": "code",
   "execution_count": 71,
   "id": "a2a870af",
   "metadata": {},
   "outputs": [],
   "source": [
    "s=open('krishna.txt')"
   ]
  },
  {
   "cell_type": "code",
   "execution_count": 73,
   "id": "a9333517",
   "metadata": {},
   "outputs": [
    {
     "data": {
      "text/plain": [
       "'hello! \\nsiliconites\\n'"
      ]
     },
     "execution_count": 73,
     "metadata": {},
     "output_type": "execute_result"
    }
   ],
   "source": [
    "s.read()"
   ]
  },
  {
   "cell_type": "code",
   "execution_count": 74,
   "id": "a231048d",
   "metadata": {},
   "outputs": [],
   "source": [
    "s.close()"
   ]
  },
  {
   "cell_type": "code",
   "execution_count": 75,
   "id": "285de42d",
   "metadata": {},
   "outputs": [
    {
     "ename": "ValueError",
     "evalue": "I/O operation on closed file.",
     "output_type": "error",
     "traceback": [
      "\u001b[1;31m---------------------------------------------------------------------------\u001b[0m",
      "\u001b[1;31mValueError\u001b[0m                                Traceback (most recent call last)",
      "\u001b[1;32m<ipython-input-75-a1015ff50f2b>\u001b[0m in \u001b[0;36m<module>\u001b[1;34m\u001b[0m\n\u001b[1;32m----> 1\u001b[1;33m \u001b[0ms\u001b[0m\u001b[1;33m.\u001b[0m\u001b[0mread\u001b[0m\u001b[1;33m(\u001b[0m\u001b[1;33m)\u001b[0m\u001b[1;33m\u001b[0m\u001b[1;33m\u001b[0m\u001b[0m\n\u001b[0m",
      "\u001b[1;31mValueError\u001b[0m: I/O operation on closed file."
     ]
    }
   ],
   "source": [
    "s.read()"
   ]
  },
  {
   "cell_type": "code",
   "execution_count": 91,
   "id": "4cf8e367",
   "metadata": {},
   "outputs": [],
   "source": [
    "my_file=open('krishna.txt')"
   ]
  },
  {
   "cell_type": "code",
   "execution_count": 92,
   "id": "63b7851f",
   "metadata": {},
   "outputs": [
    {
     "data": {
      "text/plain": [
       "'hello! \\nsiliconites\\n'"
      ]
     },
     "execution_count": 92,
     "metadata": {},
     "output_type": "execute_result"
    }
   ],
   "source": [
    "my_file.read()"
   ]
  },
  {
   "cell_type": "code",
   "execution_count": 93,
   "id": "c645289e",
   "metadata": {},
   "outputs": [
    {
     "data": {
      "text/plain": [
       "''"
      ]
     },
     "execution_count": 93,
     "metadata": {},
     "output_type": "execute_result"
    }
   ],
   "source": [
    "my_file.read()"
   ]
  },
  {
   "cell_type": "code",
   "execution_count": 94,
   "id": "5eedddd0",
   "metadata": {},
   "outputs": [
    {
     "data": {
      "text/plain": [
       "0"
      ]
     },
     "execution_count": 94,
     "metadata": {},
     "output_type": "execute_result"
    }
   ],
   "source": [
    "my_file.seek(0)"
   ]
  },
  {
   "cell_type": "code",
   "execution_count": 95,
   "id": "c9d9bab5",
   "metadata": {},
   "outputs": [
    {
     "name": "stdout",
     "output_type": "stream",
     "text": [
      "hello! kalinga here \n",
      "schooling AECS\n",
      "btech silicon\n",
      "age ka nhi pata \n",
      "\n"
     ]
    }
   ],
   "source": [
    "with open('kalinga.txt',mode='r')as f:\n",
    "    print(f.read())"
   ]
  },
  {
   "cell_type": "code",
   "execution_count": 96,
   "id": "d78d587f",
   "metadata": {},
   "outputs": [
    {
     "ename": "ValueError",
     "evalue": "I/O operation on closed file.",
     "output_type": "error",
     "traceback": [
      "\u001b[1;31m---------------------------------------------------------------------------\u001b[0m",
      "\u001b[1;31mValueError\u001b[0m                                Traceback (most recent call last)",
      "\u001b[1;32m<ipython-input-96-315c20b774c2>\u001b[0m in \u001b[0;36m<module>\u001b[1;34m\u001b[0m\n\u001b[1;32m----> 1\u001b[1;33m \u001b[0mprint\u001b[0m\u001b[1;33m(\u001b[0m\u001b[0mf\u001b[0m\u001b[1;33m.\u001b[0m\u001b[0mread\u001b[0m\u001b[1;33m(\u001b[0m\u001b[1;33m)\u001b[0m\u001b[1;33m)\u001b[0m\u001b[1;33m\u001b[0m\u001b[1;33m\u001b[0m\u001b[0m\n\u001b[0m",
      "\u001b[1;31mValueError\u001b[0m: I/O operation on closed file."
     ]
    }
   ],
   "source": [
    "print(f.read())"
   ]
  },
  {
   "cell_type": "code",
   "execution_count": 108,
   "id": "11a5a1f7",
   "metadata": {},
   "outputs": [],
   "source": [
    "with open('kalinga.txt',mode='a')as f:\n",
    "    f.write('college kb khulega')"
   ]
  },
  {
   "cell_type": "code",
   "execution_count": 1,
   "id": "7ed41013",
   "metadata": {},
   "outputs": [
    {
     "name": "stdout",
     "output_type": "stream",
     "text": [
      "hello! kalinga here \n",
      "schooling AECS\n",
      "btech silicon\n",
      "age ka nhi pata \n",
      "\n",
      " college kb khulegacollege kb khulega\n",
      "college kb khulegacollege kb khulega\n"
     ]
    }
   ],
   "source": [
    "with open('kalinga.txt',mode='r')as f:\n",
    "    print(f.read())"
   ]
  },
  {
   "cell_type": "code",
   "execution_count": 2,
   "id": "199c15e4",
   "metadata": {},
   "outputs": [],
   "source": [
    "with open('sahoo.txt',mode='w')as f:\n",
    "    f.write('hello world')"
   ]
  },
  {
   "cell_type": "code",
   "execution_count": 3,
   "id": "82d752d7",
   "metadata": {},
   "outputs": [
    {
     "name": "stdout",
     "output_type": "stream",
     "text": [
      "hello world\n"
     ]
    }
   ],
   "source": [
    "with open('sahoo.txt',mode='r')as f:\n",
    "    print(f.read())"
   ]
  },
  {
   "cell_type": "markdown",
   "id": "71757e69",
   "metadata": {},
   "source": [
    "# control flow\n",
    "1.often used when certain condition needs to be executed when a particular condition has been met.\n",
    "\n",
    "2.to control this flow of logic we use keyword.\n",
    "  if\n",
    "  elif\n",
    "  else\n",
    " \n",
    "3. SYNTAX:\n",
    "\n",
    "# if condition1:\n",
    "   execute certain code\n",
    "# elif condition2:\n",
    "   execute certain code\n",
    "# else:\n",
    "   otherwise do something else"
   ]
  },
  {
   "cell_type": "code",
   "execution_count": 5,
   "id": "791e9371",
   "metadata": {},
   "outputs": [
    {
     "name": "stdout",
     "output_type": "stream",
     "text": [
      "bonza\n"
     ]
    }
   ],
   "source": [
    "a=2\n",
    "if a==1:\n",
    "    print(\"true\")\n",
    "elif a==2:\n",
    "    print(\"bonza\")\n",
    "else:\n",
    "    print(\"false\")"
   ]
  },
  {
   "cell_type": "code",
   "execution_count": 13,
   "id": "90e2d920",
   "metadata": {},
   "outputs": [],
   "source": [
    "mylist=[1,2,3]\n",
    "# objective is to iterate every object from list and print the value \n"
   ]
  },
  {
   "cell_type": "code",
   "execution_count": 15,
   "id": "c43604b4",
   "metadata": {},
   "outputs": [
    {
     "name": "stdout",
     "output_type": "stream",
     "text": [
      "1\n",
      "2\n",
      "3\n"
     ]
    }
   ],
   "source": [
    "for i in mylist:\n",
    "    print(i)"
   ]
  },
  {
   "cell_type": "code",
   "execution_count": null,
   "id": "ca39f516",
   "metadata": {},
   "outputs": [],
   "source": []
  }
 ],
 "metadata": {
  "kernelspec": {
   "display_name": "Python 3",
   "language": "python",
   "name": "python3"
  },
  "language_info": {
   "codemirror_mode": {
    "name": "ipython",
    "version": 3
   },
   "file_extension": ".py",
   "mimetype": "text/x-python",
   "name": "python",
   "nbconvert_exporter": "python",
   "pygments_lexer": "ipython3",
   "version": "3.8.8"
  }
 },
 "nbformat": 4,
 "nbformat_minor": 5
}
