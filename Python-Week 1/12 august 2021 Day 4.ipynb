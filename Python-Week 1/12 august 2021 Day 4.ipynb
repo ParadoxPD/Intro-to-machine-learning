{
 "cells": [
  {
   "cell_type": "markdown",
   "id": "75cafe12",
   "metadata": {},
   "source": [
    "# for loop"
   ]
  },
  {
   "cell_type": "code",
   "execution_count": 3,
   "id": "85fb000d",
   "metadata": {},
   "outputs": [
    {
     "name": "stdout",
     "output_type": "stream",
     "text": [
      "s\n",
      "i\n",
      "l\n",
      "i\n",
      "c\n",
      "o\n",
      "n\n"
     ]
    }
   ],
   "source": [
    "my_string='silicon'\n",
    "for i in my_string:\n",
    "    print(i)"
   ]
  },
  {
   "cell_type": "code",
   "execution_count": 4,
   "id": "f2f5e185",
   "metadata": {},
   "outputs": [],
   "source": [
    "my_list=[(1,2),(100,3),(300,200)]\n"
   ]
  },
  {
   "cell_type": "code",
   "execution_count": 6,
   "id": "403d4564",
   "metadata": {},
   "outputs": [
    {
     "name": "stdout",
     "output_type": "stream",
     "text": [
      "(1, 2)\n",
      "(100, 3)\n",
      "(300, 200)\n"
     ]
    }
   ],
   "source": [
    "for a in my_list:\n",
    "    print(a)"
   ]
  },
  {
   "cell_type": "code",
   "execution_count": 8,
   "id": "2d240f41",
   "metadata": {},
   "outputs": [
    {
     "name": "stdout",
     "output_type": "stream",
     "text": [
      "1\n",
      "2\n",
      "100\n",
      "3\n",
      "300\n",
      "200\n"
     ]
    }
   ],
   "source": [
    "for (a,b) in my_list:\n",
    "    print(a)\n",
    "    print(b)"
   ]
  },
  {
   "cell_type": "code",
   "execution_count": 10,
   "id": "e2e6d62f",
   "metadata": {},
   "outputs": [
    {
     "name": "stdout",
     "output_type": "stream",
     "text": [
      "1 2\n",
      "3 4\n"
     ]
    }
   ],
   "source": [
    "for(s,_) in [(1,2),(3,4)]:\n",
    "    print(s,_)"
   ]
  },
  {
   "cell_type": "code",
   "execution_count": 12,
   "id": "603c0a4b",
   "metadata": {},
   "outputs": [
    {
     "name": "stdout",
     "output_type": "stream",
     "text": [
      "k1\n",
      "k2\n"
     ]
    }
   ],
   "source": [
    "D={'k1':20,'k2':40}\n",
    "for b in D:\n",
    "    print(b)"
   ]
  },
  {
   "cell_type": "code",
   "execution_count": 13,
   "id": "c16c3e80",
   "metadata": {},
   "outputs": [
    {
     "name": "stdout",
     "output_type": "stream",
     "text": [
      "('k1', 20)\n",
      "('k2', 40)\n"
     ]
    }
   ],
   "source": [
    "for b in D.items():\n",
    "    print(b)"
   ]
  },
  {
   "cell_type": "code",
   "execution_count": 15,
   "id": "38473de2",
   "metadata": {},
   "outputs": [
    {
     "name": "stdout",
     "output_type": "stream",
     "text": [
      "k1 20\n",
      "20\n",
      "k2 40\n",
      "40\n"
     ]
    }
   ],
   "source": [
    "for (b,a) in D.items():\n",
    "    print(b,a)\n",
    "    print(a)"
   ]
  },
  {
   "cell_type": "markdown",
   "id": "c12001ad",
   "metadata": {},
   "source": [
    "# while loop\n",
    "\n",
    "# while some boolean condition:\n",
    "      execute some code\n",
    "# else:\n",
    "      execute another one "
   ]
  },
  {
   "cell_type": "code",
   "execution_count": 2,
   "id": "cddc77a8",
   "metadata": {},
   "outputs": [
    {
     "name": "stdout",
     "output_type": "stream",
     "text": [
      "x= 0\n",
      "x= 1\n",
      "x= 2\n",
      "x= 3\n",
      "x= 4\n",
      "x= 5\n",
      "x= 6\n",
      "x= 7\n",
      "x= 8\n",
      "x= 9\n"
     ]
    }
   ],
   "source": [
    "x=0\n",
    "while (x<10):\n",
    "    print(\"x=\",x)\n",
    "    x=x+1\n"
   ]
  },
  {
   "cell_type": "code",
   "execution_count": 5,
   "id": "929bbf4a",
   "metadata": {},
   "outputs": [
    {
     "ename": "SyntaxError",
     "evalue": "invalid syntax (<ipython-input-5-02d11c99a281>, line 3)",
     "output_type": "error",
     "traceback": [
      "\u001b[1;36m  File \u001b[1;32m\"<ipython-input-5-02d11c99a281>\"\u001b[1;36m, line \u001b[1;32m3\u001b[0m\n\u001b[1;33m    print(\"x=\",x'{}'.format('iterate'))\u001b[0m\n\u001b[1;37m                ^\u001b[0m\n\u001b[1;31mSyntaxError\u001b[0m\u001b[1;31m:\u001b[0m invalid syntax\n"
     ]
    }
   ],
   "source": [
    "x=0\n",
    "while (x<10):\n",
    "    print(\"x=\",x'{}'.format('iterate'))\n",
    "    x=x+1"
   ]
  },
  {
   "cell_type": "markdown",
   "id": "9688dd69",
   "metadata": {},
   "source": [
    "# pass"
   ]
  },
  {
   "cell_type": "code",
   "execution_count": 4,
   "id": "ad56a403",
   "metadata": {},
   "outputs": [],
   "source": [
    "x=[1,10]\n",
    "for i in x:\n",
    "    pass"
   ]
  },
  {
   "cell_type": "code",
   "execution_count": 3,
   "id": "573f6adf",
   "metadata": {},
   "outputs": [
    {
     "name": "stdout",
     "output_type": "stream",
     "text": [
      "1\n"
     ]
    }
   ],
   "source": [
    "x=[1,10]\n",
    "for a in x:\n",
    "    if(a!=1):\n",
    "        break\n",
    "    else:\n",
    "        print(a)"
   ]
  },
  {
   "cell_type": "code",
   "execution_count": 4,
   "id": "c739d000",
   "metadata": {},
   "outputs": [
    {
     "name": "stdout",
     "output_type": "stream",
     "text": [
      "1\n"
     ]
    }
   ],
   "source": [
    "x=[1,10]\n",
    "for a in x:\n",
    "    if(a!=1):\n",
    "        continue\n",
    "    else:\n",
    "        print(a)"
   ]
  },
  {
   "cell_type": "code",
   "execution_count": null,
   "id": "074cee33",
   "metadata": {},
   "outputs": [],
   "source": []
  }
 ],
 "metadata": {
  "kernelspec": {
   "display_name": "Python 3",
   "language": "python",
   "name": "python3"
  },
  "language_info": {
   "codemirror_mode": {
    "name": "ipython",
    "version": 3
   },
   "file_extension": ".py",
   "mimetype": "text/x-python",
   "name": "python",
   "nbconvert_exporter": "python",
   "pygments_lexer": "ipython3",
   "version": "3.8.8"
  }
 },
 "nbformat": 4,
 "nbformat_minor": 5
}
