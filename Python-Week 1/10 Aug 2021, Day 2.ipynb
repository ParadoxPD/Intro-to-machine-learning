{
 "cells": [
  {
   "cell_type": "code",
   "execution_count": 1,
   "id": "6c7de91f",
   "metadata": {},
   "outputs": [
    {
     "data": {
      "text/plain": [
       "'tttttttttt'"
      ]
     },
     "execution_count": 1,
     "metadata": {},
     "output_type": "execute_result"
    }
   ],
   "source": [
    "10*'t'"
   ]
  },
  {
   "cell_type": "code",
   "execution_count": 2,
   "id": "4c543649",
   "metadata": {},
   "outputs": [],
   "source": [
    "X = 'Silicon'"
   ]
  },
  {
   "cell_type": "code",
   "execution_count": 3,
   "id": "733e9366",
   "metadata": {},
   "outputs": [
    {
     "data": {
      "text/plain": [
       "str"
      ]
     },
     "execution_count": 3,
     "metadata": {},
     "output_type": "execute_result"
    }
   ],
   "source": [
    "type(X)"
   ]
  },
  {
   "cell_type": "code",
   "execution_count": 5,
   "id": "0e573d88",
   "metadata": {},
   "outputs": [
    {
     "data": {
      "text/plain": [
       "'SILICON'"
      ]
     },
     "execution_count": 5,
     "metadata": {},
     "output_type": "execute_result"
    }
   ],
   "source": [
    "X.upper()"
   ]
  },
  {
   "cell_type": "code",
   "execution_count": 6,
   "id": "d7271623",
   "metadata": {},
   "outputs": [
    {
     "data": {
      "text/plain": [
       "'Silicon'"
      ]
     },
     "execution_count": 6,
     "metadata": {},
     "output_type": "execute_result"
    }
   ],
   "source": [
    "X.capitalize()"
   ]
  },
  {
   "cell_type": "code",
   "execution_count": 8,
   "id": "9470bc6d",
   "metadata": {},
   "outputs": [
    {
     "data": {
      "text/plain": [
       "['Silicon']"
      ]
     },
     "execution_count": 8,
     "metadata": {},
     "output_type": "execute_result"
    }
   ],
   "source": [
    "X.split()"
   ]
  },
  {
   "cell_type": "code",
   "execution_count": 9,
   "id": "12fbee16",
   "metadata": {},
   "outputs": [],
   "source": [
    "Y = 'Clg Silicon'"
   ]
  },
  {
   "cell_type": "code",
   "execution_count": 10,
   "id": "48d48296",
   "metadata": {},
   "outputs": [
    {
     "data": {
      "text/plain": [
       "['Clg', 'Silicon']"
      ]
     },
     "execution_count": 10,
     "metadata": {},
     "output_type": "execute_result"
    }
   ],
   "source": [
    "Y.split()"
   ]
  },
  {
   "cell_type": "code",
   "execution_count": 11,
   "id": "4ad0a95b",
   "metadata": {},
   "outputs": [
    {
     "data": {
      "text/plain": [
       "['Clg S', 'l', 'con']"
      ]
     },
     "execution_count": 11,
     "metadata": {},
     "output_type": "execute_result"
    }
   ],
   "source": [
    "Y.split('i')"
   ]
  },
  {
   "cell_type": "markdown",
   "id": "5635cfff",
   "metadata": {},
   "source": [
    "# List"
   ]
  },
  {
   "cell_type": "code",
   "execution_count": 12,
   "id": "fb9c254b",
   "metadata": {},
   "outputs": [],
   "source": [
    "my_list = ['Silicon',2004,8.01]"
   ]
  },
  {
   "cell_type": "code",
   "execution_count": 13,
   "id": "5c754050",
   "metadata": {},
   "outputs": [
    {
     "data": {
      "text/plain": [
       "list"
      ]
     },
     "execution_count": 13,
     "metadata": {},
     "output_type": "execute_result"
    }
   ],
   "source": [
    "type(my_list)"
   ]
  },
  {
   "cell_type": "markdown",
   "id": "fb09de1b",
   "metadata": {},
   "source": [
    "# List Support Indexing and Slicing"
   ]
  },
  {
   "cell_type": "code",
   "execution_count": 14,
   "id": "a89f1c0e",
   "metadata": {},
   "outputs": [
    {
     "data": {
      "text/plain": [
       "'Silicon'"
      ]
     },
     "execution_count": 14,
     "metadata": {},
     "output_type": "execute_result"
    }
   ],
   "source": [
    "my_list[0]"
   ]
  },
  {
   "cell_type": "code",
   "execution_count": 15,
   "id": "71da7c3e",
   "metadata": {},
   "outputs": [
    {
     "data": {
      "text/plain": [
       "['Silicon', 2004]"
      ]
     },
     "execution_count": 15,
     "metadata": {},
     "output_type": "execute_result"
    }
   ],
   "source": [
    "my_list[0:2]"
   ]
  },
  {
   "cell_type": "markdown",
   "id": "a3c45268",
   "metadata": {},
   "source": [
    "# List are Mutable"
   ]
  },
  {
   "cell_type": "code",
   "execution_count": 16,
   "id": "911b4cb2",
   "metadata": {},
   "outputs": [],
   "source": [
    "my_list[0]='Bhubaneswar'"
   ]
  },
  {
   "cell_type": "code",
   "execution_count": 17,
   "id": "6239129c",
   "metadata": {},
   "outputs": [
    {
     "data": {
      "text/plain": [
       "['Bhubaneswar', 2004, 8.01]"
      ]
     },
     "execution_count": 17,
     "metadata": {},
     "output_type": "execute_result"
    }
   ],
   "source": [
    "my_list"
   ]
  },
  {
   "cell_type": "code",
   "execution_count": 18,
   "id": "a4c4f60b",
   "metadata": {},
   "outputs": [],
   "source": [
    "my_list.append('Odisha')"
   ]
  },
  {
   "cell_type": "code",
   "execution_count": 19,
   "id": "cc043cab",
   "metadata": {},
   "outputs": [
    {
     "data": {
      "text/plain": [
       "['Bhubaneswar', 2004, 8.01, 'Odisha']"
      ]
     },
     "execution_count": 19,
     "metadata": {},
     "output_type": "execute_result"
    }
   ],
   "source": [
    "my_list"
   ]
  },
  {
   "cell_type": "code",
   "execution_count": 21,
   "id": "a1ca08b4",
   "metadata": {},
   "outputs": [],
   "source": [
    "my_list.insert(0,'India')"
   ]
  },
  {
   "cell_type": "code",
   "execution_count": 22,
   "id": "6544c94c",
   "metadata": {},
   "outputs": [
    {
     "data": {
      "text/plain": [
       "['India', 'Bhubaneswar', 2004, 8.01, 'Odisha']"
      ]
     },
     "execution_count": 22,
     "metadata": {},
     "output_type": "execute_result"
    }
   ],
   "source": [
    "my_list"
   ]
  },
  {
   "cell_type": "code",
   "execution_count": 23,
   "id": "6c21d4e7",
   "metadata": {},
   "outputs": [
    {
     "data": {
      "text/plain": [
       "'Odisha'"
      ]
     },
     "execution_count": 23,
     "metadata": {},
     "output_type": "execute_result"
    }
   ],
   "source": [
    "my_list.pop()"
   ]
  },
  {
   "cell_type": "code",
   "execution_count": 24,
   "id": "3edae1ce",
   "metadata": {},
   "outputs": [
    {
     "data": {
      "text/plain": [
       "'India'"
      ]
     },
     "execution_count": 24,
     "metadata": {},
     "output_type": "execute_result"
    }
   ],
   "source": [
    "my_list.pop(0)"
   ]
  },
  {
   "cell_type": "code",
   "execution_count": 25,
   "id": "f6b3bbfb",
   "metadata": {},
   "outputs": [
    {
     "data": {
      "text/plain": [
       "['Bhubaneswar', 2004, 8.01]"
      ]
     },
     "execution_count": 25,
     "metadata": {},
     "output_type": "execute_result"
    }
   ],
   "source": [
    "my_list"
   ]
  },
  {
   "cell_type": "code",
   "execution_count": 35,
   "id": "e5d32047",
   "metadata": {},
   "outputs": [],
   "source": [
    "my_list1 = ['e','q','t','a','d']"
   ]
  },
  {
   "cell_type": "code",
   "execution_count": 36,
   "id": "a1cdeae6",
   "metadata": {},
   "outputs": [],
   "source": [
    "my_list1.sort()"
   ]
  },
  {
   "cell_type": "code",
   "execution_count": 37,
   "id": "2072a38a",
   "metadata": {},
   "outputs": [
    {
     "data": {
      "text/plain": [
       "['a', 'd', 'e', 'q', 't']"
      ]
     },
     "execution_count": 37,
     "metadata": {},
     "output_type": "execute_result"
    }
   ],
   "source": [
    "my_list1"
   ]
  },
  {
   "cell_type": "code",
   "execution_count": 38,
   "id": "cb318994",
   "metadata": {},
   "outputs": [],
   "source": [
    "my_list1.reverse()"
   ]
  },
  {
   "cell_type": "code",
   "execution_count": 39,
   "id": "9105ed45",
   "metadata": {},
   "outputs": [
    {
     "data": {
      "text/plain": [
       "['t', 'q', 'e', 'd', 'a']"
      ]
     },
     "execution_count": 39,
     "metadata": {},
     "output_type": "execute_result"
    }
   ],
   "source": [
    "my_list1"
   ]
  },
  {
   "cell_type": "markdown",
   "id": "048db30d",
   "metadata": {},
   "source": [
    "# Q) Define a list my_list2 = ['a','g',['w',2]]. Objective is to extract 2"
   ]
  },
  {
   "cell_type": "code",
   "execution_count": 45,
   "id": "4ee18a54",
   "metadata": {},
   "outputs": [],
   "source": [
    "my_list2 = ['a','g',['w',2]]"
   ]
  },
  {
   "cell_type": "code",
   "execution_count": 47,
   "id": "3232331c",
   "metadata": {},
   "outputs": [
    {
     "data": {
      "text/plain": [
       "2"
      ]
     },
     "execution_count": 47,
     "metadata": {},
     "output_type": "execute_result"
    }
   ],
   "source": [
    "my_list2[2][1]"
   ]
  },
  {
   "cell_type": "code",
   "execution_count": 48,
   "id": "00a5af9e",
   "metadata": {},
   "outputs": [
    {
     "data": {
      "text/plain": [
       "2"
      ]
     },
     "execution_count": 48,
     "metadata": {},
     "output_type": "execute_result"
    }
   ],
   "source": [
    "my_list2.pop(2).pop(1)"
   ]
  },
  {
   "cell_type": "markdown",
   "id": "f37defb1",
   "metadata": {},
   "source": [
    "# Dictionaries"
   ]
  },
  {
   "cell_type": "code",
   "execution_count": 50,
   "id": "1a758fbf",
   "metadata": {},
   "outputs": [],
   "source": [
    "my_dict = {'Breakfast':30 , 'Lunch':80 , 'Dinner':60}"
   ]
  },
  {
   "cell_type": "code",
   "execution_count": 51,
   "id": "9cad33be",
   "metadata": {},
   "outputs": [
    {
     "data": {
      "text/plain": [
       "dict"
      ]
     },
     "execution_count": 51,
     "metadata": {},
     "output_type": "execute_result"
    }
   ],
   "source": [
    "type(my_dict)"
   ]
  },
  {
   "cell_type": "code",
   "execution_count": 52,
   "id": "2e08f234",
   "metadata": {},
   "outputs": [
    {
     "data": {
      "text/plain": [
       "60"
      ]
     },
     "execution_count": 52,
     "metadata": {},
     "output_type": "execute_result"
    }
   ],
   "source": [
    "my_dict['Dinner']"
   ]
  },
  {
   "cell_type": "code",
   "execution_count": 53,
   "id": "26651db4",
   "metadata": {},
   "outputs": [
    {
     "data": {
      "text/plain": [
       "dict_keys(['Breakfast', 'Lunch', 'Dinner'])"
      ]
     },
     "execution_count": 53,
     "metadata": {},
     "output_type": "execute_result"
    }
   ],
   "source": [
    "my_dict.keys()"
   ]
  },
  {
   "cell_type": "code",
   "execution_count": 54,
   "id": "6c5c0b6c",
   "metadata": {},
   "outputs": [
    {
     "data": {
      "text/plain": [
       "dict_values([30, 80, 60])"
      ]
     },
     "execution_count": 54,
     "metadata": {},
     "output_type": "execute_result"
    }
   ],
   "source": [
    "my_dict.values()"
   ]
  },
  {
   "cell_type": "code",
   "execution_count": 55,
   "id": "868f0854",
   "metadata": {},
   "outputs": [
    {
     "data": {
      "text/plain": [
       "dict_items([('Breakfast', 30), ('Lunch', 80), ('Dinner', 60)])"
      ]
     },
     "execution_count": 55,
     "metadata": {},
     "output_type": "execute_result"
    }
   ],
   "source": [
    "my_dict.items()"
   ]
  },
  {
   "cell_type": "code",
   "execution_count": 56,
   "id": "08823de7",
   "metadata": {},
   "outputs": [],
   "source": [
    "my_list = ['silicon',{'breakfast':30,'lunch':80,'dinner':60}]"
   ]
  },
  {
   "cell_type": "code",
   "execution_count": 57,
   "id": "b35ef5d3",
   "metadata": {},
   "outputs": [
    {
     "data": {
      "text/plain": [
       "{'breakfast': 30, 'lunch': 80, 'dinner': 60}"
      ]
     },
     "execution_count": 57,
     "metadata": {},
     "output_type": "execute_result"
    }
   ],
   "source": [
    "my_list[1]"
   ]
  },
  {
   "cell_type": "code",
   "execution_count": 58,
   "id": "2f6c5dc2",
   "metadata": {},
   "outputs": [
    {
     "data": {
      "text/plain": [
       "80"
      ]
     },
     "execution_count": 58,
     "metadata": {},
     "output_type": "execute_result"
    }
   ],
   "source": [
    "my_list[1]['lunch']"
   ]
  },
  {
   "cell_type": "markdown",
   "id": "31df5678",
   "metadata": {},
   "source": [
    "# Define a Dictionary D={'K1' : ['Silicon',2020],'K2':30}. Now Objective is to grab Silicon and make it capital."
   ]
  },
  {
   "cell_type": "code",
   "execution_count": 59,
   "id": "05fafc5a",
   "metadata": {},
   "outputs": [],
   "source": [
    "D = {'K1':['Silicon',2020],'K2':30}"
   ]
  },
  {
   "cell_type": "code",
   "execution_count": 61,
   "id": "6e59e23c",
   "metadata": {},
   "outputs": [
    {
     "data": {
      "text/plain": [
       "{'K1': ['Silicon', 2020], 'K2': 30}"
      ]
     },
     "execution_count": 61,
     "metadata": {},
     "output_type": "execute_result"
    }
   ],
   "source": [
    "D"
   ]
  },
  {
   "cell_type": "code",
   "execution_count": 65,
   "id": "ea1f4be4",
   "metadata": {},
   "outputs": [
    {
     "data": {
      "text/plain": [
       "'SILICON'"
      ]
     },
     "execution_count": 65,
     "metadata": {},
     "output_type": "execute_result"
    }
   ],
   "source": [
    "D['K1'][0].upper()"
   ]
  },
  {
   "cell_type": "code",
   "execution_count": null,
   "id": "b8c3e15e",
   "metadata": {},
   "outputs": [],
   "source": []
  }
 ],
 "metadata": {
  "kernelspec": {
   "display_name": "Python 3",
   "language": "python",
   "name": "python3"
  },
  "language_info": {
   "codemirror_mode": {
    "name": "ipython",
    "version": 3
   },
   "file_extension": ".py",
   "mimetype": "text/x-python",
   "name": "python",
   "nbconvert_exporter": "python",
   "pygments_lexer": "ipython3",
   "version": "3.8.8"
  }
 },
 "nbformat": 4,
 "nbformat_minor": 5
}
