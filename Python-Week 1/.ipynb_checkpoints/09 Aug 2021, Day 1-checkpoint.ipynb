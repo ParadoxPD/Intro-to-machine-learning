{
 "cells": [
  {
   "cell_type": "code",
   "execution_count": 2,
   "id": "286915da",
   "metadata": {},
   "outputs": [
    {
     "name": "stdin",
     "output_type": "stream",
     "text": [
      "Enter a Number= 12\n"
     ]
    }
   ],
   "source": [
    "a = input('Enter a Number=')"
   ]
  },
  {
   "cell_type": "code",
   "execution_count": 3,
   "id": "0b1c8f2a",
   "metadata": {},
   "outputs": [],
   "source": [
    "b = 30"
   ]
  },
  {
   "cell_type": "code",
   "execution_count": 4,
   "id": "ec9c1996",
   "metadata": {},
   "outputs": [
    {
     "ename": "TypeError",
     "evalue": "can only concatenate str (not \"int\") to str",
     "output_type": "error",
     "traceback": [
      "\u001b[1;31m---------------------------------------------------------------------------\u001b[0m",
      "\u001b[1;31mTypeError\u001b[0m                                 Traceback (most recent call last)",
      "\u001b[1;32m~\\AppData\\Local\\Temp/ipykernel_6164/917446421.py\u001b[0m in \u001b[0;36m<module>\u001b[1;34m\u001b[0m\n\u001b[1;32m----> 1\u001b[1;33m \u001b[0msum\u001b[0m \u001b[1;33m=\u001b[0m \u001b[0ma\u001b[0m \u001b[1;33m+\u001b[0m \u001b[0mb\u001b[0m\u001b[1;33m\u001b[0m\u001b[1;33m\u001b[0m\u001b[0m\n\u001b[0m",
      "\u001b[1;31mTypeError\u001b[0m: can only concatenate str (not \"int\") to str"
     ]
    }
   ],
   "source": [
    "sum = a + b"
   ]
  },
  {
   "cell_type": "code",
   "execution_count": 5,
   "id": "500ff636",
   "metadata": {},
   "outputs": [
    {
     "data": {
      "text/plain": [
       "str"
      ]
     },
     "execution_count": 5,
     "metadata": {},
     "output_type": "execute_result"
    }
   ],
   "source": [
    "type(a)"
   ]
  },
  {
   "cell_type": "code",
   "execution_count": 6,
   "id": "e5a6568c",
   "metadata": {},
   "outputs": [
    {
     "data": {
      "text/plain": [
       "int"
      ]
     },
     "execution_count": 6,
     "metadata": {},
     "output_type": "execute_result"
    }
   ],
   "source": [
    "type(b)"
   ]
  },
  {
   "cell_type": "markdown",
   "id": "b8fe1773",
   "metadata": {},
   "source": [
    "# String\n",
    "   # Indexing"
   ]
  },
  {
   "cell_type": "code",
   "execution_count": 7,
   "id": "6853e8c8",
   "metadata": {},
   "outputs": [],
   "source": [
    "my_name = 'silicon'"
   ]
  },
  {
   "cell_type": "code",
   "execution_count": 8,
   "id": "0666199b",
   "metadata": {},
   "outputs": [
    {
     "data": {
      "text/plain": [
       "'silicon'"
      ]
     },
     "execution_count": 8,
     "metadata": {},
     "output_type": "execute_result"
    }
   ],
   "source": [
    "my_name"
   ]
  },
  {
   "cell_type": "markdown",
   "id": "f74bfec6",
   "metadata": {},
   "source": [
    "# Extract Character 'o' from Silicon"
   ]
  },
  {
   "cell_type": "code",
   "execution_count": 9,
   "id": "9c84094b",
   "metadata": {},
   "outputs": [
    {
     "data": {
      "text/plain": [
       "'o'"
      ]
     },
     "execution_count": 9,
     "metadata": {},
     "output_type": "execute_result"
    }
   ],
   "source": [
    "my_name[5]"
   ]
  },
  {
   "cell_type": "code",
   "execution_count": 10,
   "id": "d4098949",
   "metadata": {},
   "outputs": [
    {
     "data": {
      "text/plain": [
       "'o'"
      ]
     },
     "execution_count": 10,
     "metadata": {},
     "output_type": "execute_result"
    }
   ],
   "source": [
    "my_name[-2]"
   ]
  },
  {
   "cell_type": "code",
   "execution_count": 11,
   "id": "055aeb40",
   "metadata": {},
   "outputs": [
    {
     "data": {
      "text/plain": [
       "'s'"
      ]
     },
     "execution_count": 11,
     "metadata": {},
     "output_type": "execute_result"
    }
   ],
   "source": [
    "my_name[0]"
   ]
  },
  {
   "cell_type": "code",
   "execution_count": 20,
   "id": "6f7a5da0",
   "metadata": {},
   "outputs": [
    {
     "data": {
      "text/plain": [
       "'s'"
      ]
     },
     "execution_count": 20,
     "metadata": {},
     "output_type": "execute_result"
    }
   ],
   "source": [
    "my_name[-7]"
   ]
  },
  {
   "cell_type": "markdown",
   "id": "55d66386",
   "metadata": {},
   "source": [
    "# Slicing"
   ]
  },
  {
   "cell_type": "code",
   "execution_count": 21,
   "id": "8876614b",
   "metadata": {},
   "outputs": [],
   "source": [
    "clg_name = \"Silicon Institute of Technology\""
   ]
  },
  {
   "cell_type": "code",
   "execution_count": 22,
   "id": "0782545a",
   "metadata": {},
   "outputs": [
    {
     "data": {
      "text/plain": [
       "'Institute'"
      ]
     },
     "execution_count": 22,
     "metadata": {},
     "output_type": "execute_result"
    }
   ],
   "source": [
    "clg_name[8:17]"
   ]
  },
  {
   "cell_type": "code",
   "execution_count": 23,
   "id": "fe34cbc8",
   "metadata": {},
   "outputs": [
    {
     "data": {
      "text/plain": [
       "'Isiue'"
      ]
     },
     "execution_count": 23,
     "metadata": {},
     "output_type": "execute_result"
    }
   ],
   "source": [
    "clg_name[8:17:2]"
   ]
  },
  {
   "cell_type": "markdown",
   "id": "f5d05fa1",
   "metadata": {},
   "source": [
    "# Reverse the String"
   ]
  },
  {
   "cell_type": "code",
   "execution_count": 37,
   "id": "4449fc93",
   "metadata": {},
   "outputs": [
    {
     "name": "stdout",
     "output_type": "stream",
     "text": [
      "ygolonhceT fo etutitsnI nociliS\n",
      "y\n",
      "g\n",
      "o\n",
      "l\n",
      "o\n",
      "n\n",
      "h\n",
      "c\n",
      "e\n",
      "T\n",
      " \n",
      "f\n",
      "o\n",
      " \n",
      "e\n",
      "t\n",
      "u\n",
      "t\n",
      "i\n",
      "t\n",
      "s\n",
      "n\n",
      "I\n",
      " \n",
      "n\n",
      "o\n",
      "c\n",
      "i\n",
      "l\n",
      "i\n",
      "S\n"
     ]
    }
   ],
   "source": [
    "print(clg_name[ : :-1])\n",
    "\n",
    "for i in range(len(clg_name)-1,-1,-1):\n",
    "    print(clg_name[i])\n"
   ]
  },
  {
   "cell_type": "code",
   "execution_count": 16,
   "id": "ecc4ca5d",
   "metadata": {},
   "outputs": [
    {
     "data": {
      "text/plain": [
       "'ygolonhceT fo etutitsnI nociliS'"
      ]
     },
     "execution_count": 16,
     "metadata": {},
     "output_type": "execute_result"
    }
   ],
   "source": [
    "clg_name[-1::-1]"
   ]
  },
  {
   "cell_type": "code",
   "execution_count": 38,
   "id": "c0f29861",
   "metadata": {},
   "outputs": [
    {
     "name": "stdout",
     "output_type": "stream",
     "text": [
      "Silicon Institute of Technology\n",
      "licon Institute of Technology\n"
     ]
    }
   ],
   "source": [
    "print(clg_name[:])\n",
    "print(clg_name[2:])\n"
   ]
  },
  {
   "cell_type": "markdown",
   "id": "979a767e",
   "metadata": {},
   "source": [
    "# Printing The String"
   ]
  },
  {
   "cell_type": "code",
   "execution_count": 21,
   "id": "b4c75153",
   "metadata": {},
   "outputs": [
    {
     "name": "stdout",
     "output_type": "stream",
     "text": [
      "Silicon Institute of Technology\n"
     ]
    }
   ],
   "source": [
    "print(clg_name)"
   ]
  },
  {
   "cell_type": "code",
   "execution_count": 22,
   "id": "8f2decbf",
   "metadata": {},
   "outputs": [
    {
     "data": {
      "text/plain": [
       "'Silicon Institute of Technology'"
      ]
     },
     "execution_count": 22,
     "metadata": {},
     "output_type": "execute_result"
    }
   ],
   "source": [
    "clg_name"
   ]
  },
  {
   "cell_type": "code",
   "execution_count": 39,
   "id": "9015d72d",
   "metadata": {},
   "outputs": [
    {
     "name": "stdout",
     "output_type": "stream",
     "text": [
      "Silicon \n",
      "Institute \n",
      "Of \tTecnology\n"
     ]
    }
   ],
   "source": [
    "#escaping sequence\n",
    "print('Silicon \\nInstitute \\nOf \\tTecnology')"
   ]
  },
  {
   "cell_type": "code",
   "execution_count": 24,
   "id": "505d01f9",
   "metadata": {},
   "outputs": [
    {
     "name": "stdout",
     "output_type": "stream",
     "text": [
      "Silicon \tInstitute \tOf \tTechnology\n"
     ]
    }
   ],
   "source": [
    "#escaping sequence\n",
    "print('Silicon \\tInstitute \\tOf \\tTechnology')"
   ]
  },
  {
   "cell_type": "code",
   "execution_count": 25,
   "id": "4956e856",
   "metadata": {},
   "outputs": [
    {
     "name": "stdout",
     "output_type": "stream",
     "text": [
      "S\ti\tl\ti\tc\to\tn\n"
     ]
    }
   ],
   "source": [
    "#escaping sequence\n",
    "print('S\\ti\\tl\\ti\\tc\\to\\tn')"
   ]
  },
  {
   "cell_type": "code",
   "execution_count": 55,
   "id": "845f087f",
   "metadata": {},
   "outputs": [
    {
     "name": "stdout",
     "output_type": "stream",
     "text": [
      "Institute\n"
     ]
    }
   ],
   "source": [
    "name = 'Institute'\n",
    "print(name[ : : ])"
   ]
  },
  {
   "cell_type": "code",
   "execution_count": 29,
   "id": "8d0ef3e5",
   "metadata": {},
   "outputs": [
    {
     "data": {
      "text/plain": [
       "'tute'"
      ]
     },
     "execution_count": 29,
     "metadata": {},
     "output_type": "execute_result"
    }
   ],
   "source": [
    "name[-4:]"
   ]
  },
  {
   "cell_type": "code",
   "execution_count": 30,
   "id": "eb2cf014",
   "metadata": {},
   "outputs": [
    {
     "data": {
      "text/plain": [
       "'tute'"
      ]
     },
     "execution_count": 30,
     "metadata": {},
     "output_type": "execute_result"
    }
   ],
   "source": [
    "'Institute'[-4:]"
   ]
  },
  {
   "cell_type": "markdown",
   "id": "907015e7",
   "metadata": {},
   "source": [
    "# Eliane Function or Length Function"
   ]
  },
  {
   "cell_type": "code",
   "execution_count": 60,
   "id": "83e4b444",
   "metadata": {},
   "outputs": [
    {
     "name": "stdout",
     "output_type": "stream",
     "text": [
      "3\n",
      "[2, 2, 3]\n",
      "7\n"
     ]
    }
   ],
   "source": [
    "len('silicon')\n",
    "a = [1,2,3]\n",
    "print(len(a))\n",
    "\n",
    "a[0] = 2\n",
    "print(a)\n",
    "b = 'Mrigank'\n",
    "print(len(b))\n",
    "\n"
   ]
  },
  {
   "cell_type": "markdown",
   "id": "1b10d254",
   "metadata": {},
   "source": [
    "# String Properties\n",
    "# 1) Immutability"
   ]
  },
  {
   "cell_type": "code",
   "execution_count": 32,
   "id": "91957a2a",
   "metadata": {},
   "outputs": [],
   "source": [
    "name = 'Ram'"
   ]
  },
  {
   "cell_type": "code",
   "execution_count": 33,
   "id": "5001a7fc",
   "metadata": {},
   "outputs": [
    {
     "ename": "TypeError",
     "evalue": "'str' object does not support item assignment",
     "output_type": "error",
     "traceback": [
      "\u001b[1;31m---------------------------------------------------------------------------\u001b[0m",
      "\u001b[1;31mTypeError\u001b[0m                                 Traceback (most recent call last)",
      "\u001b[1;32m<ipython-input-33-968e8976c6e8>\u001b[0m in \u001b[0;36m<module>\u001b[1;34m\u001b[0m\n\u001b[1;32m----> 1\u001b[1;33m \u001b[0mname\u001b[0m\u001b[1;33m[\u001b[0m\u001b[1;36m0\u001b[0m\u001b[1;33m]\u001b[0m\u001b[1;33m=\u001b[0m\u001b[1;34m'Sam'\u001b[0m\u001b[1;33m\u001b[0m\u001b[1;33m\u001b[0m\u001b[0m\n\u001b[0m",
      "\u001b[1;31mTypeError\u001b[0m: 'str' object does not support item assignment"
     ]
    }
   ],
   "source": [
    "name[0]='Sam'"
   ]
  },
  {
   "cell_type": "code",
   "execution_count": 79,
   "id": "b79cdb4b",
   "metadata": {},
   "outputs": [
    {
     "name": "stdout",
     "output_type": "stream",
     "text": [
      "am\n",
      "S\n",
      "Sam\n"
     ]
    }
   ],
   "source": [
    "'S' + 'Ram'[1:]\n",
    "a = 'Ram'[1:]\n",
    "b = 'S'\n",
    "\n",
    "print(a)\n",
    "print(b)\n",
    "print(f\"{b}{a}\")"
   ]
  },
  {
   "cell_type": "markdown",
   "id": "fa12f45c",
   "metadata": {},
   "source": [
    "# 2) Formatting\n",
    "# a) .format()\n",
    "# My name is Debashis Tripathy, Silicon Tech,2020"
   ]
  },
  {
   "cell_type": "code",
   "execution_count": 85,
   "id": "f7a862bd",
   "metadata": {},
   "outputs": [
    {
     "name": "stdout",
     "output_type": "stream",
     "text": [
      "My name is Debashis Tripathy,Silicon Tech,2020\n",
      "Hello World hello\n"
     ]
    }
   ],
   "source": [
    "print('My name is {},{},{}'.format('Debashis Tripathy','Silicon Tech','2020'))\n",
    "\n",
    "name = \"Priyanshu\"\n",
    "name = 'priyanshu'\n",
    "data = \"Hello my name is {name}\".format(name = \"herllo\")\n",
    "\n",
    "\n",
    "\n",
    "\n",
    "\n",
    "\n",
    "name = 12343 \n",
    "\n",
    "\n",
    "data  = \"{name} World\".format(name = \"Hello\")\n",
    "\n",
    "\n",
    "\n",
    "print(f\"{data} hello\")\n",
    "\n",
    "\n",
    "\n"
   ]
  },
  {
   "cell_type": "code",
   "execution_count": 37,
   "id": "6b7afed4",
   "metadata": {},
   "outputs": [
    {
     "name": "stdout",
     "output_type": "stream",
     "text": [
      "My name is 2020,Debashis Tripathy,Silicon Tech\n"
     ]
    }
   ],
   "source": [
    "print('My name is {2},{0},{1}'.format('Debashis Tripathy','Silicon Tech','2020'))"
   ]
  },
  {
   "cell_type": "code",
   "execution_count": 38,
   "id": "1c0b3a98",
   "metadata": {},
   "outputs": [
    {
     "name": "stdout",
     "output_type": "stream",
     "text": [
      "My name is Debashis Tripathy,Silicon Tech,2020\n"
     ]
    }
   ],
   "source": [
    "print('My name is {name},{clg},{yr}'.format(name = 'Debashis Tripathy',clg = 'Silicon Tech',yr = '2020'))"
   ]
  },
  {
   "cell_type": "markdown",
   "id": "7b1474c8",
   "metadata": {},
   "source": [
    "# b) f-string()"
   ]
  },
  {
   "cell_type": "code",
   "execution_count": 39,
   "id": "c52c9e42",
   "metadata": {},
   "outputs": [
    {
     "name": "stdout",
     "output_type": "stream",
     "text": [
      "My name is Debashis Tripathy\n"
     ]
    }
   ],
   "source": [
    "name = 'Debashis Tripathy'\n",
    "print(f'My name is {name}')"
   ]
  },
  {
   "cell_type": "code",
   "execution_count": 40,
   "id": "a5c688d0",
   "metadata": {},
   "outputs": [
    {
     "name": "stdout",
     "output_type": "stream",
     "text": [
      "My name is Debashis Tripathy,Silicon Tech,2020\n"
     ]
    }
   ],
   "source": [
    "name = 'Debashis Tripathy'\n",
    "clg = 'Silicon Tech'\n",
    "yr = '2020'\n",
    "print(f'My name is {name},{clg},{yr}')"
   ]
  },
  {
   "cell_type": "code",
   "execution_count": 41,
   "id": "6e544f11",
   "metadata": {},
   "outputs": [
    {
     "name": "stdout",
     "output_type": "stream",
     "text": [
      "My name is Debashis Tripathy,Silicon Tech,2020\n"
     ]
    }
   ],
   "source": [
    "print(f\"My name is {'Debashis Tripathy'},{'Silicon Tech'},{'2020'}\")"
   ]
  },
  {
   "cell_type": "code",
   "execution_count": null,
   "id": "446fa0d2",
   "metadata": {},
   "outputs": [],
   "source": []
  }
 ],
 "metadata": {
  "kernelspec": {
   "display_name": "Python 3 (ipykernel)",
   "language": "python",
   "name": "python3"
  },
  "language_info": {
   "codemirror_mode": {
    "name": "ipython",
    "version": 3
   },
   "file_extension": ".py",
   "mimetype": "text/x-python",
   "name": "python",
   "nbconvert_exporter": "python",
   "pygments_lexer": "ipython3",
   "version": "3.9.1"
  }
 },
 "nbformat": 4,
 "nbformat_minor": 5
}
