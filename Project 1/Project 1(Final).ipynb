{
 "cells": [
  {
   "cell_type": "code",
   "execution_count": 1,
   "id": "05f7f043-7a37-4acb-99d9-e8df69388e15",
   "metadata": {},
   "outputs": [
    {
     "name": "stdout",
     "output_type": "stream",
     "text": [
      "The Predicted Value is : 90364.23561213724\n"
     ]
    }
   ],
   "source": [
    "'''\n",
    "Project 1:\n",
    "a)\tPrepare a preprocessing dataset.\n",
    "b)\tBuild a multilinear regression model using data obtained in (a) and also to find the linear coefficient intercept of the Model.\n",
    "c)\tUsing the model determined in (b). Find the net turnover for the following row vector.\n",
    "\tCI = 50661\n",
    "\tES = 115641\n",
    "\tAE = 92496\n",
    "\tCity = Bengaluru\n",
    "\n",
    "'''\n",
    "\n",
    "import numpy as np\n",
    "import matplotlib.pyplot as plt\n",
    "import pandas as pd\n",
    "from sklearn.impute import SimpleImputer\n",
    "from sklearn.compose import ColumnTransformer\n",
    "from sklearn.preprocessing import OneHotEncoder , LabelEncoder,StandardScaler\n",
    "from sklearn.linear_model import LinearRegression\n",
    "from sklearn.model_selection import train_test_split\n",
    "\n",
    "\n",
    "# Import data set\n",
    "dataset=pd.read_csv('../Data/investment_data.csv')\n",
    "\n",
    "# To create feature matrix and dependent variable vector\n",
    "x=dataset.iloc[:,:-1].values\n",
    "y=dataset.iloc[:,-1].values\n",
    "\n",
    "# Replace missing data\n",
    "imputer=SimpleImputer(missing_values=np.nan,strategy='mean')\n",
    "imputer.fit(x[:,:3])\n",
    "x[:,:3]=imputer.transform(x[:,:3])\n",
    "\n",
    "\n",
    "# Encoding\n",
    "# Feature matrix using  OneHotEncoding\n",
    "ct=ColumnTransformer(transformers=[('encoder',OneHotEncoder(),[3])],remainder='passthrough')\n",
    "x=np.array(ct.fit_transform(x))\n",
    "\n",
    "# # Dependent variable vector using label encoder\n",
    "# le=LabelEncoder()\n",
    "# y=np.array(le.fit_transform(y))\n",
    "\n",
    "# Splitting of data into training data set and testing data set\n",
    "xtrain,xtest,ytrain,ytest=train_test_split(x,y,test_size=0.2,random_state=1)  \n",
    "\n",
    "\n",
    "# # Feature scaling \n",
    "# sc=StandardScaler()\n",
    "# xtrain[:,3:]=sc.fit_transform(xtrain[:,3:])\n",
    "# xtest[:,3:]=sc.fit_transform(xtest[:,3:])\n",
    "\n",
    "\n",
    "# Build a multiple linear model\n",
    "regn=LinearRegression()\n",
    "regn.fit(xtrain,ytrain)\n",
    "yestimated=regn.predict(xtest)\n",
    "np.concatenate((yestimated.reshape(len(yestimated),1),yestimated.reshape(len(yestimated),1)),1)\n",
    "\n",
    "\n",
    "# Finding the prediction for the given values\n",
    "'''\n",
    "    CI = 50661\n",
    "\tES = 115641\n",
    "\tAE = 92496\n",
    "\tCity = Bengaluru\n",
    "'''\n",
    "\n",
    "pred_X = [[1.0 ,0.0, 0.0, 50661,115641,92496]]\n",
    "pred_Y = regn.predict(pred_X)\n",
    "print(f\"The Predicted Value is : {pred_Y[0]}\")"
   ]
  }
 ],
 "metadata": {
  "kernelspec": {
   "display_name": "Python 3 (ipykernel)",
   "language": "python",
   "name": "python3"
  },
  "language_info": {
   "codemirror_mode": {
    "name": "ipython",
    "version": 3
   },
   "file_extension": ".py",
   "mimetype": "text/x-python",
   "name": "python",
   "nbconvert_exporter": "python",
   "pygments_lexer": "ipython3",
   "version": "3.9.1"
  }
 },
 "nbformat": 4,
 "nbformat_minor": 5
}
